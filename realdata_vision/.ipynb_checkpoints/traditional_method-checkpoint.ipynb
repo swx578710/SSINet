{
 "cells": [
  {
   "cell_type": "code",
   "execution_count": 1,
   "id": "0cfaa864-24b0-4183-bd93-15f088573096",
   "metadata": {},
   "outputs": [
    {
     "name": "stdout",
     "output_type": "stream",
     "text": [
      "Reading forward solution from D:\\jupyter_note\\SWX_source\\vision_realdata\\fwd.fif...\n",
      "    Reading a source space...\n",
      "    [done]\n",
      "    Reading a source space...\n"
     ]
    },
    {
     "name": "stderr",
     "output_type": "stream",
     "text": [
      "<ipython-input-1-2efad407a8f1>:4: RuntimeWarning: This filename (fwd.fif) does not conform to MNE naming conventions. All forward files should end with -fwd.fif, -fwd.fif.gz, _fwd.fif, _fwd.fif.gz, -fwd.h5 or _fwd.h5\n",
      "  fwd = mne.read_forward_solution('fwd.fif')\n"
     ]
    },
    {
     "name": "stdout",
     "output_type": "stream",
     "text": [
      "    [done]\n",
      "    2 source spaces read\n",
      "    Desired named matrix (kind = 3523) not available\n",
      "    Read EEG forward solution (1284 sources, 32 channels, free orientations)\n",
      "    Source spaces transformed to the forward solution coordinate frame\n",
      "Reading D:\\jupyter_note\\SWX_source\\vision_realdata\\evoked.fif ...\n",
      "    Found the data of interest:\n",
      "        t =     101.56 ...     199.22 ms (255)\n",
      "        0 CTF compensation matrices available\n",
      "        nave = 10 - aspect type = 100\n",
      "No projector specified for this dataset. Please consider the method self.add_proj.\n",
      "No baseline correction applied\n",
      "<class 'mne.evoked.Evoked'>\n"
     ]
    },
    {
     "name": "stderr",
     "output_type": "stream",
     "text": [
      "<ipython-input-1-2efad407a8f1>:6: RuntimeWarning: This filename (D:\\jupyter_note\\SWX_source\\vision_realdata\\evoked.fif) does not conform to MNE naming conventions. All evoked files should end with -ave.fif, -ave.fif.gz, _ave.fif or _ave.fif.gz\n",
      "  evoked = mne.read_evokeds('evoked.fif',condition=0)\n"
     ]
    }
   ],
   "source": [
    "from invert import Solver\n",
    "import mne\n",
    "\n",
    "fwd = mne.read_forward_solution('fwd.fif')\n",
    "# 这里一定要加一个condition=0，不然会变为list类型，会报错\n",
    "evoked = mne.read_evokeds('evoked.fif',condition=0) \n",
    "print(type(evoked))\n",
    "# 指定画图参数\n",
    "plot_params = dict(surface='white', initial_time=0.05, views=('lateral'), hemi='both', verbose=0)"
   ]
  },
  {
   "cell_type": "code",
   "execution_count": 2,
   "id": "39e0fb92-da12-4c87-a8a5-7bb7650aa47e",
   "metadata": {},
   "outputs": [
    {
     "name": "stdout",
     "output_type": "stream",
     "text": [
      "Forward model has free source orientation. This is currently not possible, converting to fixed.\n",
      "NOTE: pick_types() is a legacy function. New code should use inst.pick(...).\n",
      "NOTE: pick_channels() is a legacy function. New code should use inst.pick(...).\n"
     ]
    },
    {
     "data": {
      "text/plain": [
       "<mne.viz._brain._brain.Brain at 0x11f5603a520>"
      ]
     },
     "execution_count": 2,
     "metadata": {},
     "output_type": "execute_result"
    }
   ],
   "source": [
    "# Create a Solver instance\n",
    "solver_name = \"WMNE\"\n",
    "solver = Solver(solver_name)\n",
    "alpha = 0.1\n",
    "\n",
    "# Calculate the inverse operator\n",
    "solver.make_inverse_operator(fwd)\n",
    "\n",
    "# Apply the inverse operator to your data\n",
    "stc = solver.apply_inverse_operator(evoked)\n",
    "\n",
    "# Plot the resulting source estimate\n",
    "stc.plot(**plot_params)"
   ]
  },
  {
   "cell_type": "code",
   "execution_count": 8,
   "id": "bfc4cd76-e37c-4c0c-8028-aa287b661482",
   "metadata": {},
   "outputs": [
    {
     "name": "stdout",
     "output_type": "stream",
     "text": [
      "Forward model has free source orientation. This is currently not possible, converting to fixed.\n",
      "NOTE: pick_types() is a legacy function. New code should use inst.pick(...).\n",
      "NOTE: pick_channels() is a legacy function. New code should use inst.pick(...).\n"
     ]
    },
    {
     "data": {
      "text/plain": [
       "<mne.viz._brain._brain.Brain at 0x11f020468e0>"
      ]
     },
     "execution_count": 8,
     "metadata": {},
     "output_type": "execute_result"
    }
   ],
   "source": [
    "solver_name = \"dSPM\"\n",
    "solver = Solver(solver_name)\n",
    "\n",
    "# Calculate the inverse operator\n",
    "solver.make_inverse_operator(fwd)\n",
    "\n",
    "# Apply the inverse operator to your data\n",
    "stc = solver.apply_inverse_operator(evoked)\n",
    "\n",
    "# Plot the resulting source estimate\n",
    "stc.plot(**plot_params)"
   ]
  },
  {
   "cell_type": "code",
   "execution_count": 4,
   "id": "51e86546-ccb3-4f12-a76e-ea8aa040599a",
   "metadata": {},
   "outputs": [
    {
     "name": "stdout",
     "output_type": "stream",
     "text": [
      "Forward model has free source orientation. This is currently not possible, converting to fixed.\n",
      "NOTE: pick_types() is a legacy function. New code should use inst.pick(...).\n",
      "NOTE: pick_channels() is a legacy function. New code should use inst.pick(...).\n"
     ]
    },
    {
     "data": {
      "text/plain": [
       "<mne.viz._brain._brain.Brain at 0x11f01b9de20>"
      ]
     },
     "execution_count": 4,
     "metadata": {},
     "output_type": "execute_result"
    }
   ],
   "source": [
    "solver_name = \"sloreta\"\n",
    "solver = Solver(solver_name)\n",
    "\n",
    "# Calculate the inverse operator\n",
    "solver.make_inverse_operator(fwd)\n",
    "\n",
    "# Apply the inverse operator to your data\n",
    "stc = solver.apply_inverse_operator(evoked)\n",
    "\n",
    "# Plot the resulting source estimate\n",
    "stc.plot(**plot_params)"
   ]
  },
  {
   "cell_type": "code",
   "execution_count": 9,
   "id": "2b2bb393-30ee-4d10-8870-9eed99e6bc9a",
   "metadata": {},
   "outputs": [
    {
     "name": "stdout",
     "output_type": "stream",
     "text": [
      "Forward model has free source orientation. This is currently not possible, converting to fixed.\n",
      "NOTE: pick_types() is a legacy function. New code should use inst.pick(...).\n",
      "NOTE: pick_channels() is a legacy function. New code should use inst.pick(...).\n",
      "NOTE: pick_types() is a legacy function. New code should use inst.pick(...).\n",
      "NOTE: pick_channels() is a legacy function. New code should use inst.pick(...).\n"
     ]
    },
    {
     "data": {
      "text/plain": [
       "<mne.viz._brain._brain.Brain at 0x11f07d7f7f0>"
      ]
     },
     "execution_count": 9,
     "metadata": {},
     "output_type": "execute_result"
    }
   ],
   "source": [
    "solver_name = \"champagne\"\n",
    "solver = Solver(solver_name)\n",
    "\n",
    "# Calculate the inverse operator\n",
    "solver.make_inverse_operator(fwd,evoked,alpha)\n",
    "\n",
    "# Apply the inverse operator to your data\n",
    "stc = solver.apply_inverse_operator(evoked)\n",
    "\n",
    "# Plot the resulting source estimate\n",
    "stc.plot(**plot_params)"
   ]
  },
  {
   "cell_type": "code",
   "execution_count": 6,
   "id": "480e0de1-501e-4072-b80c-68d35a14e593",
   "metadata": {},
   "outputs": [
    {
     "name": "stdout",
     "output_type": "stream",
     "text": [
      "Forward model has free source orientation. This is currently not possible, converting to fixed.\n",
      "NOTE: pick_types() is a legacy function. New code should use inst.pick(...).\n",
      "NOTE: pick_channels() is a legacy function. New code should use inst.pick(...).\n"
     ]
    },
    {
     "data": {
      "text/plain": [
       "<mne.viz._brain._brain.Brain at 0x11f01b27d00>"
      ]
     },
     "execution_count": 6,
     "metadata": {},
     "output_type": "execute_result"
    }
   ],
   "source": [
    "solver_name = \"eloreta\"\n",
    "solver = Solver(solver_name)\n",
    "\n",
    "# Calculate the inverse operator\n",
    "solver.make_inverse_operator(fwd)\n",
    "\n",
    "# Apply the inverse operator to your data\n",
    "stc = solver.apply_inverse_operator(evoked)\n",
    "\n",
    "# Plot the resulting source estimate\n",
    "stc.plot(**plot_params)"
   ]
  },
  {
   "cell_type": "code",
   "execution_count": null,
   "id": "16649c99-7ee0-4a2e-ba66-115f8a1e303f",
   "metadata": {},
   "outputs": [],
   "source": []
  }
 ],
 "metadata": {
  "kernelspec": {
   "display_name": "Python [conda env:Keras]",
   "language": "python",
   "name": "conda-env-Keras-py"
  },
  "language_info": {
   "codemirror_mode": {
    "name": "ipython",
    "version": 3
   },
   "file_extension": ".py",
   "mimetype": "text/x-python",
   "name": "python",
   "nbconvert_exporter": "python",
   "pygments_lexer": "ipython3",
   "version": "3.8.18"
  }
 },
 "nbformat": 4,
 "nbformat_minor": 5
}
