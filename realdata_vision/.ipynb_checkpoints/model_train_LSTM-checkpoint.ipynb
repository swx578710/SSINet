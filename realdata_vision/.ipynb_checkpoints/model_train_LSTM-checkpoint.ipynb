{
 "cells": [
  {
   "cell_type": "code",
   "execution_count": 16,
   "id": "3367e635-b5d7-42d1-8c0d-170f23c6c36a",
   "metadata": {},
   "outputs": [],
   "source": [
    "import tensorflow as tf\n",
    "from tensorflow.keras.layers import Dense, TimeDistributed, Bidirectional, LSTM, multiply, Input, Dropout, Conv1D, Flatten\n",
    "from tensorflow.keras.layers import LayerNormalization, MultiHeadAttention, Add\n",
    "from tensorflow.keras.regularizers import l2\n",
    "from tensorflow.keras.layers import Dense, TimeDistributed, Bidirectional, LSTM, multiply, Input, Dropout\n",
    "from tensorflow.keras.callbacks import EarlyStopping\n",
    "from tensorflow.keras.layers import Dense, TimeDistributed, Bidirectional, GRU, multiply, Input, Dropout\n",
    "from esinet import util\n",
    "from tensorflow.keras.layers import LSTM\n",
    "from esinet import Simulation, Net\n",
    "from esinet.forward import create_forward_model, get_info\n",
    "import numpy as np\n",
    "from tensorflow.keras.layers import Dense, TimeDistributed, Bidirectional, LSTM, Input, Dropout, concatenate\n",
    "from tensorflow.keras.callbacks import EarlyStopping\n",
    "from tensorflow.keras.layers import Dense, TimeDistributed, Bidirectional, LSTM, multiply, Input, Dropout\n",
    "from tensorflow.keras.callbacks import EarlyStopping, LearningRateScheduler\n",
    "import copy"
   ]
  },
  {
   "cell_type": "code",
   "execution_count": 17,
   "id": "85344297-e008-410e-a19e-4e0f3a8aa4d2",
   "metadata": {},
   "outputs": [],
   "source": [
    "def transformer_encoder(inputs, head_size, num_heads, ff_dim, dropout=0):\n",
    "    # Normalization and Attention\n",
    "    x = LayerNormalization(epsilon=1e-6)(inputs)\n",
    "    x = MultiHeadAttention(key_dim=head_size, num_heads=num_heads, dropout=dropout)(x, x)\n",
    "    x = Add()([x, inputs])\n",
    "\n",
    "    # Feed Forward Part\n",
    "    ff = LayerNormalization(epsilon=1e-6)(x)\n",
    "    ff = TimeDistributed(Dense(ff_dim, activation=\"relu\"))(ff)\n",
    "    ff = Dropout(dropout)(ff)\n",
    "    ff = TimeDistributed(Dense(inputs.shape[-1]))(ff)\n",
    "    ff = Add()([ff, x])\n",
    "\n",
    "    return ff"
   ]
  },
  {
   "cell_type": "code",
   "execution_count": 18,
   "id": "b23856cb-f2fc-4148-9c1c-e8dc38ababf7",
   "metadata": {},
   "outputs": [],
   "source": [
    "# 定义损失函数\n",
    "def myself_loss(y_true, y_pred):\n",
    "\tlosses = y_true - y_pred\n",
    "\treturn losses"
   ]
  },
  {
   "cell_type": "code",
   "execution_count": 19,
   "id": "fde9ac92-78d9-45d0-a7f7-e69d14451a99",
   "metadata": {},
   "outputs": [],
   "source": [
    "# 对输入eeg进行归一化\n",
    "def custom_prep_data(data):\n",
    "\n",
    "    data = np.swapaxes(data, 1,2)\n",
    "\n",
    "    # 获取数据维度\n",
    "    num_samples, num_timepoints, num_channels = data.shape\n",
    "    \n",
    "    # 将数据类型转换为 np.float32\n",
    "    data = data.astype(np.float32)\n",
    "    \n",
    "    # 对每个样本（脑电信号的一个时间点）进行处理\n",
    "    for i in range(num_samples):\n",
    "        for j in range(num_timepoints):\n",
    "            # 获取当前样本的数据\n",
    "            sample_data = data[i, j, :]\n",
    "            \n",
    "            # 假设你想要进行去除平均值和标准化的预处理\n",
    "            # 去除平均值\n",
    "            sample_data_mean = np.mean(sample_data)\n",
    "            sample_data_std = np.std(sample_data)\n",
    "            sample_data -= sample_data_mean\n",
    "            \n",
    "            # 标准化\n",
    "            if sample_data_std != 0:\n",
    "                sample_data /= sample_data_std\n",
    "        \n",
    "            # 更新数据\n",
    "            data[i, j, :] = sample_data\n",
    "    print(\"The shape of EEG is\", data.shape)\n",
    "    \n",
    "    return data\n",
    "\n",
    "# 对源信号进行归一化\n",
    "def custom_prep_source(data):\n",
    "    \n",
    "    # 将数据类型转换为 np.float32\n",
    "    data = data.astype(np.float32)\n",
    "    \n",
    "    for i, y_sample in enumerate(data):\n",
    "        data[i] /= np.max(abs(data[i]))\n",
    "\n",
    "    data = np.swapaxes(data, 1,2)\n",
    "    print(\"The shape of source is\", data.shape)\n",
    "    \n",
    "    return data"
   ]
  },
  {
   "cell_type": "code",
   "execution_count": 20,
   "id": "f287b6a0-fe37-433e-986c-815976091200",
   "metadata": {},
   "outputs": [],
   "source": [
    "# 定义学习率调度函数\n",
    "def lr_schedule(epoch):\n",
    "    # 根据训练周期(epoch)来动态调整学习率\n",
    "    if epoch < 50:\n",
    "        return 0.001\n",
    "    elif epoch < 100:\n",
    "        return 0.005\n",
    "    else:\n",
    "        return 0.0005"
   ]
  },
  {
   "cell_type": "code",
   "execution_count": 21,
   "id": "7dea1584-d54a-43a4-93e1-343f9644802e",
   "metadata": {},
   "outputs": [
    {
     "name": "stdout",
     "output_type": "stream",
     "text": [
      "Model: \"Contextualizer\"\n",
      "__________________________________________________________________________________________________\n",
      " Layer (type)                   Output Shape         Param #     Connected to                     \n",
      "==================================================================================================\n",
      " Input (InputLayer)             [(None, None, 60)]   0           []                               \n",
      "                                                                                                  \n",
      " FC1 (TimeDistributed)          (None, None, 200)    12200       ['Input[0][0]']                  \n",
      "                                                                                                  \n",
      " dropout_1 (Dropout)            (None, None, 200)    0           ['FC1[0][0]']                    \n",
      "                                                                                                  \n",
      " LSTM1 (Bidirectional)          (None, None, 64)     44928       ['dropout_1[0][0]']              \n",
      "                                                                                                  \n",
      " FC2 (TimeDistributed)          (None, None, 1284)   258084      ['dropout_1[0][0]']              \n",
      "                                                                                                  \n",
      " Mask (TimeDistributed)         (None, None, 1284)   83460       ['LSTM1[0][0]']                  \n",
      "                                                                                                  \n",
      " multiply (Multiply)            (None, None, 1284)   0           ['FC2[0][0]',                    \n",
      "                                                                  'Mask[0][0]']                   \n",
      "                                                                                                  \n",
      "==================================================================================================\n",
      "Total params: 398,672\n",
      "Trainable params: 398,672\n",
      "Non-trainable params: 0\n",
      "__________________________________________________________________________________________________\n"
     ]
    }
   ],
   "source": [
    "# 构建LSTM神经网络,损失函数有余弦相似度 CosineSimilarity, Huber\n",
    "lr_scheduler = LearningRateScheduler(lr_schedule)\n",
    "# 超参数定义\n",
    "n_channels = 60\n",
    "n_dipoles = 1284\n",
    "n_dense_units = 200  # 减少单元数\n",
    "n_lstm_units = 32    # 减少单元数\n",
    "dropout_rate = 0.2\n",
    "batch_size = 1284\n",
    "epochs = 300\n",
    "\n",
    "# 输入层\n",
    "inputs = tf.keras.Input(shape=(None, n_channels), name='Input')\n",
    "## 全连接路径\n",
    "fc1 = TimeDistributed(Dense(n_dense_units, \n",
    "            activation=\"tanh\"), \n",
    "            name='FC1')(inputs)\n",
    "fc1 = Dropout(dropout_rate)(fc1)\n",
    "direct_out = TimeDistributed(Dense(n_dipoles, \n",
    "    activation=\"linear\"),\n",
    "    name='FC2')(fc1)\n",
    "# LSTM路径,Mask层的作用是生成一个与输入序列形状相同的掩码，用于动态地控制对输出序列的处理，以处理变长时间序列\n",
    "# 在源定位中，不同信号的长度可能不同，但我们通常希望在模型中对它们进行统一处理。这就需要通过掩码来标记填充的部分，并在计算损失时忽略这些填充的部分。\n",
    "lstm1 = Bidirectional(GRU(n_lstm_units, return_sequences=True, \n",
    "    input_shape=(None, n_dense_units), dropout=dropout_rate), \n",
    "    name='LSTM1')(fc1)\n",
    "mask = TimeDistributed(Dense(n_dipoles, \n",
    "            activation=\"sigmoid\"), \n",
    "            name='Mask')(lstm1)\n",
    "\n",
    "# Combination\n",
    "multi = multiply([direct_out, mask], name=\"multiply\")\n",
    "model = tf.keras.Model(inputs=inputs, outputs=multi, name='Contextualizer')\n",
    "model.compile(loss=tf.keras.losses.CosineSimilarity(), optimizer=tf.keras.optimizers.Adam(learning_rate=0.001))\n",
    "\n",
    "# 打印模型概要\n",
    "model.summary()"
   ]
  },
  {
   "cell_type": "code",
   "execution_count": 22,
   "id": "0f45b428-7827-45be-b1c8-2658493a6128",
   "metadata": {},
   "outputs": [
    {
     "name": "stdout",
     "output_type": "stream",
     "text": [
      "(20000, 60, 26)\n",
      "(20000, 1284, 26)\n"
     ]
    }
   ],
   "source": [
    "# 加载测试数据\n",
    "x= np.load('D:/jupyter_note/SWX_source/Simulated_data/x3.npy')\n",
    "y= np.load('D:/jupyter_note/SWX_source/Simulated_data/y3.npy')\n",
    "print(x.shape)\n",
    "print(y.shape)"
   ]
  },
  {
   "cell_type": "code",
   "execution_count": 23,
   "id": "c1cb47b7-8abf-4c92-9934-87a5125b3e82",
   "metadata": {},
   "outputs": [
    {
     "name": "stdout",
     "output_type": "stream",
     "text": [
      "The shape of EEG is (20000, 26, 60)\n",
      "The shape of source is (20000, 26, 1284)\n"
     ]
    }
   ],
   "source": [
    " # 对信号进行预处理\n",
    "x = custom_prep_data(x)\n",
    "y = custom_prep_source(y)"
   ]
  },
  {
   "cell_type": "code",
   "execution_count": 24,
   "id": "10311a34-042b-4c73-91d7-c7b88295f38b",
   "metadata": {},
   "outputs": [],
   "source": [
    "# 使用数据生成器进行训练\n",
    "def data_generator(x, y, batch_size):\n",
    "    num_samples = len(x)\n",
    "    indices = np.arange(num_samples)\n",
    "    \n",
    "    while True:\n",
    "        np.random.shuffle(indices)\n",
    "        for i in range(0, num_samples, batch_size):\n",
    "            batch_indices = indices[i:i + batch_size]\n",
    "            yield x[batch_indices], y[batch_indices]"
   ]
  },
  {
   "cell_type": "code",
   "execution_count": 25,
   "id": "3d9dc45c-bb55-4420-a472-15c125689bb7",
   "metadata": {},
   "outputs": [],
   "source": [
    "# Split data into training and validation sets\n",
    "split_index = int(0.9 * len(x))\n",
    "x_train, x_val = x[:split_index], x[split_index:]\n",
    "y_train, y_val = y[:split_index], y[split_index:]"
   ]
  },
  {
   "cell_type": "code",
   "execution_count": 26,
   "id": "361c1691-4363-4f67-94e6-b98e1abd9a32",
   "metadata": {},
   "outputs": [],
   "source": [
    "# Create data generators for training and validation\n",
    "train_generator = data_generator(x_train, y_train, batch_size)\n",
    "val_generator = data_generator(x_val, y_val, batch_size)\n",
    "early_stopping = EarlyStopping(monitor='val_loss', mode='min', patience=30, restore_best_weights=True)"
   ]
  },
  {
   "cell_type": "code",
   "execution_count": 27,
   "id": "34a36e7c-5b6b-4b09-ba24-d01f529a64b9",
   "metadata": {},
   "outputs": [],
   "source": [
    "# 计算每个epoch的步骤和验证步骤\n",
    "steps_per_epoch = len(x_train) // batch_size\n",
    "validation_steps = len(x_val) // batch_size"
   ]
  },
  {
   "cell_type": "code",
   "execution_count": 28,
   "id": "fa333345-1fbc-4855-b857-b93b95f5649b",
   "metadata": {},
   "outputs": [
    {
     "name": "stdout",
     "output_type": "stream",
     "text": [
      "Epoch 1/300\n",
      "14/14 [==============================] - 7s 267ms/step - loss: -0.1156 - val_loss: -0.1946 - lr: 0.0010\n",
      "Epoch 2/300\n",
      "14/14 [==============================] - 3s 212ms/step - loss: -0.2235 - val_loss: -0.2540 - lr: 0.0010\n",
      "Epoch 3/300\n",
      "14/14 [==============================] - 3s 206ms/step - loss: -0.2696 - val_loss: -0.2899 - lr: 0.0010\n",
      "Epoch 4/300\n",
      "14/14 [==============================] - 3s 201ms/step - loss: -0.3040 - val_loss: -0.3279 - lr: 0.0010\n",
      "Epoch 5/300\n",
      "14/14 [==============================] - 3s 200ms/step - loss: -0.3350 - val_loss: -0.3551 - lr: 0.0010\n",
      "Epoch 6/300\n",
      "14/14 [==============================] - 3s 195ms/step - loss: -0.3607 - val_loss: -0.3769 - lr: 0.0010\n",
      "Epoch 7/300\n",
      "14/14 [==============================] - 3s 192ms/step - loss: -0.3806 - val_loss: -0.3965 - lr: 0.0010\n",
      "Epoch 8/300\n",
      "14/14 [==============================] - 3s 186ms/step - loss: -0.4013 - val_loss: -0.4132 - lr: 0.0010\n",
      "Epoch 9/300\n",
      "14/14 [==============================] - 3s 190ms/step - loss: -0.4162 - val_loss: -0.4223 - lr: 0.0010\n",
      "Epoch 10/300\n",
      "14/14 [==============================] - 3s 191ms/step - loss: -0.4308 - val_loss: -0.4379 - lr: 0.0010\n",
      "Epoch 11/300\n",
      "14/14 [==============================] - 3s 192ms/step - loss: -0.4445 - val_loss: -0.4517 - lr: 0.0010\n",
      "Epoch 12/300\n",
      "14/14 [==============================] - 3s 193ms/step - loss: -0.4579 - val_loss: -0.4679 - lr: 0.0010\n",
      "Epoch 13/300\n",
      "14/14 [==============================] - 3s 200ms/step - loss: -0.4695 - val_loss: -0.4767 - lr: 0.0010\n",
      "Epoch 14/300\n",
      "14/14 [==============================] - 3s 185ms/step - loss: -0.4810 - val_loss: -0.4827 - lr: 0.0010\n",
      "Epoch 15/300\n",
      "14/14 [==============================] - 3s 182ms/step - loss: -0.4893 - val_loss: -0.4989 - lr: 0.0010\n",
      "Epoch 16/300\n",
      "14/14 [==============================] - 3s 190ms/step - loss: -0.4982 - val_loss: -0.5015 - lr: 0.0010\n",
      "Epoch 17/300\n",
      "14/14 [==============================] - 3s 223ms/step - loss: -0.5058 - val_loss: -0.5040 - lr: 0.0010\n",
      "Epoch 18/300\n",
      "14/14 [==============================] - 3s 191ms/step - loss: -0.5106 - val_loss: -0.5122 - lr: 0.0010\n",
      "Epoch 19/300\n",
      "14/14 [==============================] - 3s 194ms/step - loss: -0.5164 - val_loss: -0.5125 - lr: 0.0010\n",
      "Epoch 20/300\n",
      "14/14 [==============================] - 3s 191ms/step - loss: -0.5238 - val_loss: -0.5192 - lr: 0.0010\n",
      "Epoch 21/300\n",
      "14/14 [==============================] - 3s 198ms/step - loss: -0.5260 - val_loss: -0.5290 - lr: 0.0010\n",
      "Epoch 22/300\n",
      "14/14 [==============================] - 3s 195ms/step - loss: -0.5300 - val_loss: -0.5206 - lr: 0.0010\n",
      "Epoch 23/300\n",
      "14/14 [==============================] - 3s 189ms/step - loss: -0.5352 - val_loss: -0.5296 - lr: 0.0010\n",
      "Epoch 24/300\n",
      "14/14 [==============================] - 3s 201ms/step - loss: -0.5367 - val_loss: -0.5412 - lr: 0.0010\n",
      "Epoch 25/300\n",
      "14/14 [==============================] - 3s 192ms/step - loss: -0.5409 - val_loss: -0.5374 - lr: 0.0010\n",
      "Epoch 26/300\n",
      "14/14 [==============================] - 3s 202ms/step - loss: -0.5451 - val_loss: -0.5404 - lr: 0.0010\n",
      "Epoch 27/300\n",
      "14/14 [==============================] - 3s 194ms/step - loss: -0.5444 - val_loss: -0.5443 - lr: 0.0010\n",
      "Epoch 28/300\n",
      "14/14 [==============================] - 3s 201ms/step - loss: -0.5496 - val_loss: -0.5404 - lr: 0.0010\n",
      "Epoch 29/300\n",
      "14/14 [==============================] - 3s 198ms/step - loss: -0.5509 - val_loss: -0.5439 - lr: 0.0010\n",
      "Epoch 30/300\n",
      "14/14 [==============================] - 3s 202ms/step - loss: -0.5534 - val_loss: -0.5436 - lr: 0.0010\n",
      "Epoch 31/300\n",
      "14/14 [==============================] - 3s 199ms/step - loss: -0.5555 - val_loss: -0.5497 - lr: 0.0010\n",
      "Epoch 32/300\n",
      "14/14 [==============================] - 3s 216ms/step - loss: -0.5577 - val_loss: -0.5423 - lr: 0.0010\n",
      "Epoch 33/300\n",
      "14/14 [==============================] - 3s 205ms/step - loss: -0.5582 - val_loss: -0.5526 - lr: 0.0010\n",
      "Epoch 34/300\n",
      "14/14 [==============================] - 3s 206ms/step - loss: -0.5603 - val_loss: -0.5551 - lr: 0.0010\n",
      "Epoch 35/300\n",
      "14/14 [==============================] - 3s 211ms/step - loss: -0.5623 - val_loss: -0.5541 - lr: 0.0010\n",
      "Epoch 36/300\n",
      "14/14 [==============================] - 3s 208ms/step - loss: -0.5630 - val_loss: -0.5536 - lr: 0.0010\n",
      "Epoch 37/300\n",
      "14/14 [==============================] - 3s 205ms/step - loss: -0.5658 - val_loss: -0.5579 - lr: 0.0010\n",
      "Epoch 38/300\n",
      "14/14 [==============================] - 3s 206ms/step - loss: -0.5663 - val_loss: -0.5557 - lr: 0.0010\n",
      "Epoch 39/300\n",
      "14/14 [==============================] - 3s 206ms/step - loss: -0.5659 - val_loss: -0.5554 - lr: 0.0010\n",
      "Epoch 40/300\n",
      "14/14 [==============================] - 3s 205ms/step - loss: -0.5701 - val_loss: -0.5619 - lr: 0.0010\n",
      "Epoch 41/300\n",
      "14/14 [==============================] - 3s 205ms/step - loss: -0.5715 - val_loss: -0.5633 - lr: 0.0010\n",
      "Epoch 42/300\n",
      "14/14 [==============================] - 3s 211ms/step - loss: -0.5704 - val_loss: -0.5631 - lr: 0.0010\n",
      "Epoch 43/300\n",
      "14/14 [==============================] - 3s 205ms/step - loss: -0.5731 - val_loss: -0.5644 - lr: 0.0010\n",
      "Epoch 44/300\n",
      "14/14 [==============================] - 3s 201ms/step - loss: -0.5732 - val_loss: -0.5625 - lr: 0.0010\n",
      "Epoch 45/300\n",
      "14/14 [==============================] - 3s 196ms/step - loss: -0.5750 - val_loss: -0.5645 - lr: 0.0010\n",
      "Epoch 46/300\n",
      "14/14 [==============================] - 3s 210ms/step - loss: -0.5761 - val_loss: -0.5647 - lr: 0.0010\n",
      "Epoch 47/300\n",
      "14/14 [==============================] - 3s 217ms/step - loss: -0.5774 - val_loss: -0.5686 - lr: 0.0010\n",
      "Epoch 48/300\n",
      "14/14 [==============================] - 3s 208ms/step - loss: -0.5779 - val_loss: -0.5730 - lr: 0.0010\n",
      "Epoch 49/300\n",
      "14/14 [==============================] - 3s 208ms/step - loss: -0.5789 - val_loss: -0.5739 - lr: 0.0010\n",
      "Epoch 50/300\n",
      "14/14 [==============================] - 3s 211ms/step - loss: -0.5781 - val_loss: -0.5694 - lr: 0.0010\n",
      "Epoch 51/300\n",
      "14/14 [==============================] - 3s 206ms/step - loss: -0.5698 - val_loss: -0.5622 - lr: 0.0050\n",
      "Epoch 52/300\n",
      "14/14 [==============================] - 3s 204ms/step - loss: -0.5699 - val_loss: -0.5637 - lr: 0.0050\n",
      "Epoch 53/300\n",
      "14/14 [==============================] - 3s 204ms/step - loss: -0.5768 - val_loss: -0.5667 - lr: 0.0050\n",
      "Epoch 54/300\n",
      "14/14 [==============================] - 3s 202ms/step - loss: -0.5761 - val_loss: -0.5657 - lr: 0.0050\n",
      "Epoch 55/300\n",
      "14/14 [==============================] - 3s 202ms/step - loss: -0.5784 - val_loss: -0.5716 - lr: 0.0050\n",
      "Epoch 56/300\n",
      "14/14 [==============================] - 3s 208ms/step - loss: -0.5830 - val_loss: -0.5664 - lr: 0.0050\n",
      "Epoch 57/300\n",
      "14/14 [==============================] - 3s 201ms/step - loss: -0.5841 - val_loss: -0.5712 - lr: 0.0050\n",
      "Epoch 58/300\n",
      "14/14 [==============================] - 3s 203ms/step - loss: -0.5858 - val_loss: -0.5708 - lr: 0.0050\n",
      "Epoch 59/300\n",
      "14/14 [==============================] - 3s 202ms/step - loss: -0.5897 - val_loss: -0.5714 - lr: 0.0050\n"
     ]
    }
   ],
   "source": [
    "# 训练模型时使用学习率调度器\n",
    "history = model.fit(\n",
    "    train_generator,\n",
    "    epochs=epochs,\n",
    "    steps_per_epoch=steps_per_epoch,\n",
    "    validation_data=val_generator,\n",
    "    validation_steps=validation_steps,\n",
    "    callbacks=[early_stopping, lr_scheduler]  # 添加学习率调度器回调\n",
    ")"
   ]
  },
  {
   "cell_type": "code",
   "execution_count": 29,
   "id": "7a9d7c34-9013-4fe1-902b-cb13924bca47",
   "metadata": {},
   "outputs": [
    {
     "data": {
      "image/png": "[encoded data removed]",
      "text/plain": [
       "<Figure size 1200x600 with 1 Axes>"
      ]
     },
     "metadata": {},
     "output_type": "display_data"
    }
   ],
   "source": [
    "# 绘制验证损失和训练损失\n",
    "import matplotlib.pyplot as plt\n",
    "plt.rcParams['font.sans-serif'] = [u'SimHei']\n",
    "plt.rcParams['axes.unicode_minus'] = False\n",
    "\n",
    "# 设置字体大小\n",
    "plt.rcParams['font.size'] = 12\n",
    "\n",
    "# 设置图像大小\n",
    "plt.figure(figsize=(12, 6))\n",
    "\n",
    "# 绘制训练和验证损失\n",
    "plt.plot(history.history['loss'], label='训练损失')\n",
    "plt.plot(history.history['val_loss'], label='验证损失')\n",
    "plt.xlabel('迭代次数')\n",
    "plt.ylabel('损失')\n",
    "plt.title('原始模型 训练和验证损失')\n",
    "plt.legend()\n",
    "plt.show()"
   ]
  },
  {
   "cell_type": "code",
   "execution_count": 30,
   "id": "928d1676-dd80-43c3-9ae9-dea85884889b",
   "metadata": {},
   "outputs": [
    {
     "name": "stderr",
     "output_type": "stream",
     "text": [
      "WARNING:absl:Function `_wrapped_model` contains input name(s) Input with unsupported characters which will be renamed to input in the SavedModel.\n",
      "WARNING:absl:Found untraced functions such as gru_cell_4_layer_call_fn, gru_cell_4_layer_call_and_return_conditional_losses, gru_cell_5_layer_call_fn, gru_cell_5_layer_call_and_return_conditional_losses while saving (showing 4 of 4). These functions will not be directly callable after loading.\n"
     ]
    },
    {
     "name": "stdout",
     "output_type": "stream",
     "text": [
      "INFO:tensorflow:Assets written to: D:/jupyter_note/SWX_source/Simulated_data/model_LSTM3\\assets\n"
     ]
    },
    {
     "name": "stderr",
     "output_type": "stream",
     "text": [
      "INFO:tensorflow:Assets written to: D:/jupyter_note/SWX_source/Simulated_data/model_LSTM3\\assets\n",
      "WARNING:absl:<keras.layers.recurrent.GRUCell object at 0x000001CA802E9040> has the same name 'GRUCell' as a built-in Keras object. Consider renaming <class 'keras.layers.recurrent.GRUCell'> to avoid naming conflicts when loading with `tf.keras.models.load_model`. If renaming is not possible, pass the object in the `custom_objects` parameter of the load function.\n",
      "WARNING:absl:<keras.layers.recurrent.GRUCell object at 0x000001CA81E71520> has the same name 'GRUCell' as a built-in Keras object. Consider renaming <class 'keras.layers.recurrent.GRUCell'> to avoid naming conflicts when loading with `tf.keras.models.load_model`. If renaming is not possible, pass the object in the `custom_objects` parameter of the load function.\n"
     ]
    }
   ],
   "source": [
    "# 保存模型\n",
    "model.save('D:/jupyter_note/SWX_source/Simulated_data/model_LSTM3', save_format='tf')"
   ]
  },
  {
   "cell_type": "code",
   "execution_count": null,
   "id": "94a17f64-b959-476f-8487-678742157ff8",
   "metadata": {},
   "outputs": [],
   "source": []
  }
 ],
 "metadata": {
  "kernelspec": {
   "display_name": "Python [conda env:Keras]",
   "language": "python",
   "name": "conda-env-Keras-py"
  },
  "language_info": {
   "codemirror_mode": {
    "name": "ipython",
    "version": 3
   },
   "file_extension": ".py",
   "mimetype": "text/x-python",
   "name": "python",
   "nbconvert_exporter": "python",
   "pygments_lexer": "ipython3",
   "version": "3.8.18"
  }
 },
 "nbformat": 4,
 "nbformat_minor": 5
}
