{
 "cells": [
  {
   "cell_type": "code",
   "execution_count": 2,
   "id": "7ccff8e4-40b7-4f32-960d-506c35412f80",
   "metadata": {},
   "outputs": [],
   "source": [
    "import sys;\n",
    "from esinet.evaluate import eval_mse\n",
    "# sys.path.insert(0, '../')\n",
    "from esinet import Simulation, Net, util, evaluate\n",
    "from forward import create_forward_model, get_info\n",
    "from matplotlib import pyplot as plt\n",
    "from esinet.util import calculate_source\n",
    "import numpy as np\n",
    "import mne"
   ]
  },
  {
   "cell_type": "code",
   "execution_count": 3,
   "id": "bc79ccb3-53cf-441f-8c54-db7f8fdbaa27",
   "metadata": {},
   "outputs": [
    {
     "name": "stderr",
     "output_type": "stream",
     "text": [
      "[Parallel(n_jobs=-1)]: Using backend LokyBackend with 12 concurrent workers.\n",
      "[Parallel(n_jobs=-1)]: Done   4 out of  12 | elapsed:    2.5s remaining:    5.0s\n",
      "[Parallel(n_jobs=-1)]: Done   7 out of  12 | elapsed:    2.5s remaining:    1.8s\n",
      "[Parallel(n_jobs=-1)]: Done  10 out of  12 | elapsed:    2.5s remaining:    0.4s\n",
      "[Parallel(n_jobs=-1)]: Done  12 out of  12 | elapsed:    2.6s finished\n",
      "[Parallel(n_jobs=-1)]: Using backend LokyBackend with 12 concurrent workers.\n",
      "[Parallel(n_jobs=-1)]: Done   4 out of  12 | elapsed:    0.0s remaining:    0.1s\n",
      "[Parallel(n_jobs=-1)]: Done   7 out of  12 | elapsed:    0.0s remaining:    0.0s\n",
      "[Parallel(n_jobs=-1)]: Done  10 out of  12 | elapsed:    0.0s remaining:    0.0s\n",
      "[Parallel(n_jobs=-1)]: Done  12 out of  12 | elapsed:    0.0s finished\n",
      "[Parallel(n_jobs=-1)]: Using backend LokyBackend with 12 concurrent workers.\n"
     ]
    },
    {
     "name": "stdout",
     "output_type": "stream",
     "text": [
      "<Forward | MEG channels: 0 | EEG channels: 32 | Source space: Surface with 1284 vertices | Source orientation: Fixed>\n",
      "    Write a source space...\n",
      "    [done]\n"
     ]
    },
    {
     "name": "stderr",
     "output_type": "stream",
     "text": [
      "[Parallel(n_jobs=-1)]: Done   4 out of  12 | elapsed:    1.4s remaining:    2.9s\n",
      "[Parallel(n_jobs=-1)]: Done   7 out of  12 | elapsed:    1.5s remaining:    1.0s\n",
      "[Parallel(n_jobs=-1)]: Done  10 out of  12 | elapsed:    1.5s remaining:    0.2s\n",
      "[Parallel(n_jobs=-1)]: Done  12 out of  12 | elapsed:    1.5s finished\n",
      "<ipython-input-3-273f23927ef3>:7: RuntimeWarning: This filename (fwd.fif) does not conform to MNE naming conventions. All forward files should end with -fwd.fif, -fwd.fif.gz, _fwd.fif, _fwd.fif.gz, -fwd.h5 or _fwd.h5\n",
      "  fwd.save('fwd.fif', overwrite=True)\n"
     ]
    },
    {
     "name": "stdout",
     "output_type": "stream",
     "text": [
      "    Write a source space...\n",
      "    [done]\n",
      "    2 source spaces written\n"
     ]
    },
    {
     "name": "stderr",
     "output_type": "stream",
     "text": [
      "<ipython-input-3-273f23927ef3>:7: RuntimeWarning: This forward solution is based on a forward solution with free orientation. The original forward solution is stored on disk in X/Y/Z RAS coordinates. Any transformation (surface orientation or fixed orientation) will be reverted. To reapply any transformation to the forward operator please apply convert_forward_solution after reading the forward solution with read_forward_solution.\n",
      "  fwd.save('fwd.fif', overwrite=True)\n"
     ]
    }
   ],
   "source": [
    "# Create generic Forward Model 设置频率\n",
    "info = get_info(sfreq=256)\n",
    "# 生成前向模型，ico2表示324个源，ico3表示1284个源，oct5表示2052个源,其间距为10mm ico4表示5124个源,\n",
    "fwd = create_forward_model(info=info, sampling='ico3')\n",
    "leadfield, pos = util.unpack_fwd(fwd)[1:3]\n",
    "print(fwd)\n",
    "fwd.save('fwd.fif', overwrite=True)"
   ]
  },
  {
   "cell_type": "code",
   "execution_count": 3,
   "id": "a745bab2-5557-45bb-b1f0-3d2b2857a626",
   "metadata": {},
   "outputs": [
    {
     "name": "stdout",
     "output_type": "stream",
     "text": [
      "Simulate Source\n",
      "Simulating data based on sparse patches.\n"
     ]
    },
    {
     "name": "stderr",
     "output_type": "stream",
     "text": [
      "100%|████████████████████████████████████████████████████████████████████████████| 20000/20000 [05:56<00:00, 56.17it/s]\n"
     ]
    },
    {
     "name": "stdout",
     "output_type": "stream",
     "text": [
      "Converting Source Data to mne.SourceEstimate object\n"
     ]
    },
    {
     "name": "stderr",
     "output_type": "stream",
     "text": [
      "100%|██████████████████████████████████████████████████████████████████████████| 20000/20000 [00:03<00:00, 5263.18it/s]\n"
     ]
    },
    {
     "name": "stdout",
     "output_type": "stream",
     "text": [
      "source data shape:  (1284, 26) (1284, 26)\n",
      "\n",
      "Project sources to EEG...\n",
      "\n",
      "Create EEG trials with noise...\n"
     ]
    },
    {
     "name": "stderr",
     "output_type": "stream",
     "text": [
      "100%|███████████████████████████████████████████████████████████████████████████| 20000/20000 [01:52<00:00, 177.55it/s]\n"
     ]
    },
    {
     "name": "stdout",
     "output_type": "stream",
     "text": [
      "\n",
      "Convert EEG matrices to a single instance of mne.Epochs...\n"
     ]
    },
    {
     "data": {
      "text/plain": [
       "<esinet.simulation.Simulation at 0x232a9903910>"
      ]
     },
     "execution_count": 3,
     "metadata": {},
     "output_type": "execute_result"
    }
   ],
   "source": [
    "settings = dict(duration_of_trial=0.1)\n",
    "sim = Simulation(fwd, info, settings=settings, verbose=True)\n",
    "sim.simulate(n_samples=20000)"
   ]
  },
  {
   "cell_type": "code",
   "execution_count": 4,
   "id": "9b0ede87-3090-49c8-af28-927054ee6748",
   "metadata": {},
   "outputs": [
    {
     "name": "stdout",
     "output_type": "stream",
     "text": [
      "<class 'list'>\n",
      "<class 'numpy.ndarray'>\n"
     ]
    }
   ],
   "source": [
    "# 提取源信号\n",
    "sources = sim.source_data\n",
    "sources = [source.data for source in sources]\n",
    "print(type(sources))\n",
    "print(type(sources[0]))"
   ]
  },
  {
   "cell_type": "code",
   "execution_count": 5,
   "id": "2f2a9100-6e86-4051-9afd-4579e20fec3e",
   "metadata": {},
   "outputs": [
    {
     "name": "stdout",
     "output_type": "stream",
     "text": [
      "<class 'numpy.ndarray'>\n",
      "(20000, 1284, 26)\n"
     ]
    }
   ],
   "source": [
    "y=np.array(sources)\n",
    "print(type(y))\n",
    "print(y.shape)"
   ]
  },
  {
   "cell_type": "code",
   "execution_count": 6,
   "id": "1ca6d3fa-da39-4215-bf75-d4b0110c7cf4",
   "metadata": {},
   "outputs": [
    {
     "name": "stdout",
     "output_type": "stream",
     "text": [
      "<class 'numpy.ndarray'>\n",
      "(20000, 1, 32, 26)\n",
      "(20000, 32, 26)\n"
     ]
    }
   ],
   "source": [
    "x=np.array(sim.eeg_data)\n",
    "print(type(x))\n",
    "print(x.shape)\n",
    "x=x.squeeze()\n",
    "print(x.shape)"
   ]
  },
  {
   "cell_type": "code",
   "execution_count": 7,
   "id": "94b4e237-92de-4a80-868d-5f4a71f79221",
   "metadata": {},
   "outputs": [],
   "source": [
    "np.save('x.npy', x)"
   ]
  },
  {
   "cell_type": "code",
   "execution_count": 8,
   "id": "20708271-6d75-44c3-aaf8-0260153aeb73",
   "metadata": {},
   "outputs": [],
   "source": [
    "np.save('y.npy', y)"
   ]
  },
  {
   "cell_type": "code",
   "execution_count": 9,
   "id": "eda167f5-093b-487c-aed0-006d0f2603d3",
   "metadata": {},
   "outputs": [],
   "source": [
    "np.save('pos.npy', pos)"
   ]
  },
  {
   "cell_type": "code",
   "execution_count": 10,
   "id": "5e4fbd31-f6f2-4a27-a3ee-18f2e77d8111",
   "metadata": {},
   "outputs": [],
   "source": [
    "import pickle\n",
    "\n",
    "# 指定要保存到的文件名\n",
    "file_name = 'sim.pkl'\n",
    "\n",
    "# 打开文件，使用二进制写模式\n",
    "with open(file_name, 'wb') as f:\n",
    "    # 使用pickle.dump()函数将对象保存到文件中\n",
    "    pickle.dump(sim, f)"
   ]
  },
  {
   "cell_type": "code",
   "execution_count": null,
   "id": "a6557df8-01b2-49c1-a9a7-05183487904b",
   "metadata": {},
   "outputs": [],
   "source": []
  }
 ],
 "metadata": {
  "kernelspec": {
   "display_name": "Python [conda env:Keras]",
   "language": "python",
   "name": "conda-env-Keras-py"
  },
  "language_info": {
   "codemirror_mode": {
    "name": "ipython",
    "version": 3
   },
   "file_extension": ".py",
   "mimetype": "text/x-python",
   "name": "python",
   "nbconvert_exporter": "python",
   "pygments_lexer": "ipython3",
   "version": "3.8.18"
  }
 },
 "nbformat": 4,
 "nbformat_minor": 5
}
