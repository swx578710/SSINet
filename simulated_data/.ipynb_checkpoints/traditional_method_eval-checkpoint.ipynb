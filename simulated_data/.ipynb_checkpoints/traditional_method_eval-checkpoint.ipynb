{
 "cells": [
  {
   "cell_type": "code",
   "execution_count": 31,
   "id": "0cfaa864-24b0-4183-bd93-15f088573096",
   "metadata": {},
   "outputs": [
    {
     "name": "stdout",
     "output_type": "stream",
     "text": [
      "Reading forward solution from D:\\jupyter_note\\SWX_source\\Simulated_data\\fwd.fif...\n",
      "    Reading a source space...\n",
      "    [done]\n",
      "    Reading a source space...\n",
      "    [done]\n",
      "    2 source spaces read\n",
      "    Desired named matrix (kind = 3523) not available\n",
      "    Read EEG forward solution (1284 sources, 60 channels, free orientations)\n",
      "    Source spaces transformed to the forward solution coordinate frame\n",
      "(1000, 1284, 26)\n"
     ]
    },
    {
     "name": "stderr",
     "output_type": "stream",
     "text": [
      "<ipython-input-31-3f53141d8199>:9: RuntimeWarning: This filename (fwd.fif) does not conform to MNE naming conventions. All forward files should end with -fwd.fif, -fwd.fif.gz, _fwd.fif, _fwd.fif.gz, -fwd.h5 or _fwd.h5\n",
      "  fwd = mne.read_forward_solution('fwd.fif')\n"
     ]
    }
   ],
   "source": [
    "from invert import Solver\n",
    "import mne\n",
    "import numpy as np\n",
    "import pickle\n",
    "\n",
    "with open( 'D:/jupyter_note/SWX_source/Simulated_data/sim_dianji.pkl', 'rb') as file:\n",
    "    sim_test = pickle.load(file)\n",
    "\n",
    "fwd = mne.read_forward_solution('fwd.fif')\n",
    "# 这里一定要加一个condition=0，不然会变为list类型，会报错\n",
    "\n",
    "# 指定画图参数\n",
    "plot_params = dict(surface='white', initial_time=0.05, views=('lateral'), hemi='both', verbose=0)\n",
    "\n",
    "y_true = np.load('D:/jupyter_note/SWX_source/Simulated_data/y_test_dianji.npy')\n",
    "print(y_true.shape)"
   ]
  },
  {
   "cell_type": "code",
   "execution_count": 32,
   "id": "1710c26e-9d0e-4657-b1a5-2300f45b61f5",
   "metadata": {},
   "outputs": [
    {
     "name": "stdout",
     "output_type": "stream",
     "text": [
      "Forward model has free source orientation. This is currently not possible, converting to fixed.\n",
      "NOTE: pick_types() is a legacy function. New code should use inst.pick(...).\n",
      "NOTE: pick_channels() is a legacy function. New code should use inst.pick(...).\n",
      "Forward model has free source orientation. This is currently not possible, converting to fixed.\n",
      "NOTE: pick_types() is a legacy function. New code should use inst.pick(...).\n",
      "NOTE: pick_channels() is a legacy function. New code should use inst.pick(...).\n",
      "Forward model has free source orientation. This is currently not possible, converting to fixed.\n",
      "NOTE: pick_types() is a legacy function. New code should use inst.pick(...).\n",
      "NOTE: pick_channels() is a legacy function. New code should use inst.pick(...).\n",
      "Forward model has free source orientation. This is currently not possible, converting to fixed.\n",
      "NOTE: pick_types() is a legacy function. New code should use inst.pick(...).\n",
      "NOTE: pick_channels() is a legacy function. New code should use inst.pick(...).\n"
     ]
    },
    {
     "ename": "KeyboardInterrupt",
     "evalue": "",
     "output_type": "error",
     "traceback": [
      "\u001b[1;31m---------------------------------------------------------------------------\u001b[0m",
      "\u001b[1;31mKeyboardInterrupt\u001b[0m                         Traceback (most recent call last)",
      "Cell \u001b[1;32mIn[32], line 43\u001b[0m\n\u001b[0;32m     41\u001b[0m solver \u001b[38;5;241m=\u001b[39m Solver(solver_name)\n\u001b[0;32m     42\u001b[0m \u001b[38;5;66;03m# Calculate the inverse operator\u001b[39;00m\n\u001b[1;32m---> 43\u001b[0m \u001b[43msolver\u001b[49m\u001b[38;5;241;43m.\u001b[39;49m\u001b[43mmake_inverse_operator\u001b[49m\u001b[43m(\u001b[49m\u001b[43mfwd\u001b[49m\u001b[43m,\u001b[49m\u001b[43mevoked\u001b[49m\u001b[43m,\u001b[49m\u001b[43malpha\u001b[49m\u001b[43m)\u001b[49m\n\u001b[0;32m     44\u001b[0m \u001b[38;5;66;03m# Apply the inverse operator to your data\u001b[39;00m\n\u001b[0;32m     45\u001b[0m stc4 \u001b[38;5;241m=\u001b[39m solver\u001b[38;5;241m.\u001b[39mapply_inverse_operator(evoked)\n",
      "File \u001b[1;32mD:\\deeplearning\\anaconda3\\envs\\Keras\\lib\\site-packages\\invert\\solvers\\empirical_bayes.py:76\u001b[0m, in \u001b[0;36mSolverChampagne.make_inverse_operator\u001b[1;34m(self, forward, mne_obj, alpha, max_iter, noise_cov, verbose, *args, **kwargs)\u001b[0m\n\u001b[0;32m     74\u001b[0m inverse_operators \u001b[38;5;241m=\u001b[39m []\n\u001b[0;32m     75\u001b[0m \u001b[38;5;28;01mfor\u001b[39;00m alpha \u001b[38;5;129;01min\u001b[39;00m \u001b[38;5;28mself\u001b[39m\u001b[38;5;241m.\u001b[39malphas:\n\u001b[1;32m---> 76\u001b[0m     inverse_operator \u001b[38;5;241m=\u001b[39m \u001b[38;5;28;43mself\u001b[39;49m\u001b[38;5;241;43m.\u001b[39;49m\u001b[43mchampagne\u001b[49m\u001b[43m(\u001b[49m\u001b[43mdata\u001b[49m\u001b[43m,\u001b[49m\u001b[43m \u001b[49m\u001b[43malpha\u001b[49m\u001b[43m,\u001b[49m\u001b[43m \u001b[49m\u001b[43mmax_iter\u001b[49m\u001b[38;5;241;43m=\u001b[39;49m\u001b[43mmax_iter\u001b[49m\u001b[43m,\u001b[49m\u001b[43m)\u001b[49m\n\u001b[0;32m     77\u001b[0m     inverse_operators\u001b[38;5;241m.\u001b[39mappend( inverse_operator )\n\u001b[0;32m     78\u001b[0m \u001b[38;5;28mself\u001b[39m\u001b[38;5;241m.\u001b[39minverse_operators \u001b[38;5;241m=\u001b[39m [InverseOperator(inverse_operator, \u001b[38;5;28mself\u001b[39m\u001b[38;5;241m.\u001b[39mname) \u001b[38;5;28;01mfor\u001b[39;00m inverse_operator \u001b[38;5;129;01min\u001b[39;00m inverse_operators]\n",
      "File \u001b[1;32mD:\\deeplearning\\anaconda3\\envs\\Keras\\lib\\site-packages\\invert\\solvers\\empirical_bayes.py:126\u001b[0m, in \u001b[0;36mSolverChampagne.champagne\u001b[1;34m(self, y, alpha, max_iter)\u001b[0m\n\u001b[0;32m    124\u001b[0m \u001b[38;5;66;03m# Calculate Source Covariance Matrix based on currently selected gammas\u001b[39;00m\n\u001b[0;32m    125\u001b[0m Sigma_y \u001b[38;5;241m=\u001b[39m (leadfield \u001b[38;5;241m@\u001b[39m Gamma \u001b[38;5;241m@\u001b[39m leadfield\u001b[38;5;241m.\u001b[39mT) \u001b[38;5;241m+\u001b[39m \u001b[38;5;28mself\u001b[39m\u001b[38;5;241m.\u001b[39mnoise_cov\n\u001b[1;32m--> 126\u001b[0m U, S, _ \u001b[38;5;241m=\u001b[39m \u001b[43mnp\u001b[49m\u001b[38;5;241;43m.\u001b[39;49m\u001b[43mlinalg\u001b[49m\u001b[38;5;241;43m.\u001b[39;49m\u001b[43msvd\u001b[49m\u001b[43m(\u001b[49m\u001b[43mSigma_y\u001b[49m\u001b[43m,\u001b[49m\u001b[43m \u001b[49m\u001b[43mfull_matrices\u001b[49m\u001b[38;5;241;43m=\u001b[39;49m\u001b[38;5;28;43;01mFalse\u001b[39;49;00m\u001b[43m)\u001b[49m\n\u001b[0;32m    127\u001b[0m S \u001b[38;5;241m=\u001b[39m S[np\u001b[38;5;241m.\u001b[39mnewaxis, :]\n\u001b[0;32m    128\u001b[0m \u001b[38;5;28;01mdel\u001b[39;00m Sigma_y\n",
      "File \u001b[1;32m<__array_function__ internals>:180\u001b[0m, in \u001b[0;36msvd\u001b[1;34m(*args, **kwargs)\u001b[0m\n",
      "File \u001b[1;32mD:\\deeplearning\\anaconda3\\envs\\Keras\\lib\\site-packages\\numpy\\linalg\\linalg.py:1648\u001b[0m, in \u001b[0;36msvd\u001b[1;34m(a, full_matrices, compute_uv, hermitian)\u001b[0m\n\u001b[0;32m   1645\u001b[0m         gufunc \u001b[38;5;241m=\u001b[39m _umath_linalg\u001b[38;5;241m.\u001b[39msvd_n_s\n\u001b[0;32m   1647\u001b[0m signature \u001b[38;5;241m=\u001b[39m \u001b[38;5;124m'\u001b[39m\u001b[38;5;124mD->DdD\u001b[39m\u001b[38;5;124m'\u001b[39m \u001b[38;5;28;01mif\u001b[39;00m isComplexType(t) \u001b[38;5;28;01melse\u001b[39;00m \u001b[38;5;124m'\u001b[39m\u001b[38;5;124md->ddd\u001b[39m\u001b[38;5;124m'\u001b[39m\n\u001b[1;32m-> 1648\u001b[0m u, s, vh \u001b[38;5;241m=\u001b[39m \u001b[43mgufunc\u001b[49m\u001b[43m(\u001b[49m\u001b[43ma\u001b[49m\u001b[43m,\u001b[49m\u001b[43m \u001b[49m\u001b[43msignature\u001b[49m\u001b[38;5;241;43m=\u001b[39;49m\u001b[43msignature\u001b[49m\u001b[43m,\u001b[49m\u001b[43m \u001b[49m\u001b[43mextobj\u001b[49m\u001b[38;5;241;43m=\u001b[39;49m\u001b[43mextobj\u001b[49m\u001b[43m)\u001b[49m\n\u001b[0;32m   1649\u001b[0m u \u001b[38;5;241m=\u001b[39m u\u001b[38;5;241m.\u001b[39mastype(result_t, copy\u001b[38;5;241m=\u001b[39m\u001b[38;5;28;01mFalse\u001b[39;00m)\n\u001b[0;32m   1650\u001b[0m s \u001b[38;5;241m=\u001b[39m s\u001b[38;5;241m.\u001b[39mastype(_realType(result_t), copy\u001b[38;5;241m=\u001b[39m\u001b[38;5;28;01mFalse\u001b[39;00m)\n",
      "\u001b[1;31mKeyboardInterrupt\u001b[0m: "
     ]
    }
   ],
   "source": [
    "y_pred1=[];\n",
    "y_pred2=[];\n",
    "y_pred3=[];\n",
    "y_pred4=[];\n",
    "n_samples = y_true.shape[0]\n",
    "n_samples = int(n_samples/50)\n",
    "for i in range(n_samples):\n",
    "    epochs=sim_test.eeg_data[i]\n",
    "    evoked = epochs.average()\n",
    "    stc = sim_test.source_data[i]\n",
    "\n",
    "    solver_name = \"WMNE\"\n",
    "    solver = Solver(solver_name)\n",
    "    alpha = 0.1\n",
    "    # Calculate the inverse operator\n",
    "    solver.make_inverse_operator(fwd)\n",
    "    # Apply the inverse operator to your data\n",
    "    stc1 = solver.apply_inverse_operator(evoked)\n",
    "    y_pred = stc1.data\n",
    "    y_pred1.append(y_pred)\n",
    "\n",
    "    solver_name = \"dSPM\"\n",
    "    solver = Solver(solver_name)\n",
    "    # Calculate the inverse operator\n",
    "    solver.make_inverse_operator(fwd)\n",
    "    # Apply the inverse operator to your data\n",
    "    stc2 = solver.apply_inverse_operator(evoked)\n",
    "    y_pred = stc2.data\n",
    "    y_pred2.append(y_pred)\n",
    "\n",
    "    solver_name = \"sloreta\"\n",
    "    solver = Solver(solver_name)\n",
    "    # Calculate the inverse operator\n",
    "    solver.make_inverse_operator(fwd)\n",
    "    # Apply the inverse operator to your data\n",
    "    stc3 = solver.apply_inverse_operator(evoked)\n",
    "    y_pred = stc3.data\n",
    "    y_pred3.append(y_pred)\n",
    "\n",
    "    solver_name = \"champagne\"\n",
    "    solver = Solver(solver_name)\n",
    "    # Calculate the inverse operator\n",
    "    solver.make_inverse_operator(fwd,evoked,alpha)\n",
    "    # Apply the inverse operator to your data\n",
    "    stc4 = solver.apply_inverse_operator(evoked)\n",
    "    y_pred = stc4.data\n",
    "    y_pred4.append(y_pred)\n"
   ]
  },
  {
   "cell_type": "code",
   "execution_count": null,
   "id": "6d33b35e-926b-4ff1-8c14-5cc8f7d54670",
   "metadata": {},
   "outputs": [],
   "source": [
    "# 修改数据，使其适合评估\n",
    "y_true = y_true[:n_samples, :, :]\n",
    "y_true = np.swapaxes(y_true, 1, 2)\n",
    "print(y_true.shape)\n",
    "\n",
    "y_pred1=np.array(y_pred1)\n",
    "y_pred2=np.array(y_pred2)\n",
    "y_pred3=np.array(y_pred3)\n",
    "y_pred4=np.array(y_pred4)\n",
    "\n",
    "y_pred1 = np.swapaxes(y_pred1, 1, 2)\n",
    "y_pred2 = np.swapaxes(y_pred2, 1, 2)\n",
    "y_pred3 = np.swapaxes(y_pred3, 1, 2)\n",
    "y_pred4 = np.swapaxes(y_pred4, 1, 2)\n",
    "\n",
    "print(y_pred1.shape)\n",
    "print(y_pred2.shape)\n",
    "print(y_pred3.shape)\n",
    "print(y_pred4.shape)"
   ]
  },
  {
   "cell_type": "code",
   "execution_count": null,
   "id": "899c3e39-89df-4c2e-89e2-d06042b448b7",
   "metadata": {},
   "outputs": [],
   "source": [
    "# 计算多个样本的 NMSE\n",
    "from esinet.evaluate import eval_nmse\n",
    "\n",
    "nmse_values1 = []\n",
    "\n",
    "for y_true_, y_pred_ in zip(y_true, y_pred1):\n",
    "    \n",
    "    # 计算每个样本的 NMSE\n",
    "    nmse_sample = eval_nmse(y_true_, y_pred_)\n",
    "    nmse_values1.append(nmse_sample)\n",
    "\n",
    "# 计算平均 MSE 和 NMSE\n",
    "mean_nmse1 = np.mean(nmse_values1)\n",
    "\n",
    "# 计算标准差\n",
    "nmse_std1 = np.std(nmse_values1)\n",
    "\n",
    "# 输出结果\n",
    "print(nmse_sample)\n",
    "print(\"平均 NMSE across samples:\", mean_nmse1)\n",
    "print(\"NMSE 的标准差:\", nmse_std1)"
   ]
  },
  {
   "cell_type": "code",
   "execution_count": 5,
   "id": "16649c99-7ee0-4a2e-ba66-115f8a1e303f",
   "metadata": {},
   "outputs": [
    {
     "name": "stdout",
     "output_type": "stream",
     "text": [
      "平均 NMSE across samples: 0.008626003174971801\n",
      "NMSE 的标准差: 0.0036746218466120134\n"
     ]
    }
   ],
   "source": [
    "# 计算多个样本的 NMSE\n",
    "from esinet.evaluate import eval_nmse\n",
    "\n",
    "nmse_values2 = []\n",
    "\n",
    "for y_true_, y_pred_ in zip(y_true, y_pred2):\n",
    "    \n",
    "    # 计算每个样本的 NMSE\n",
    "    nmse_sample = eval_nmse(y_true_, y_pred_)\n",
    "    nmse_values2.append(nmse_sample)\n",
    "\n",
    "# 计算平均 MSE 和 NMSE\n",
    "mean_nmse2 = np.mean(nmse_values2)\n",
    "\n",
    "# 计算标准差\n",
    "nmse_std2 = np.std(nmse_values2)\n",
    "\n",
    "# 输出结果\n",
    "print(\"平均 NMSE across samples:\", mean_nmse2)\n",
    "print(\"NMSE 的标准差:\", nmse_std2)"
   ]
  },
  {
   "cell_type": "code",
   "execution_count": 6,
   "id": "690fae4e-e4ee-418a-9e9e-fb0ffa54bcea",
   "metadata": {},
   "outputs": [
    {
     "name": "stdout",
     "output_type": "stream",
     "text": [
      "平均 NMSE across samples: 0.0037301001833178094\n",
      "NMSE 的标准差: 0.0027648809874361666\n"
     ]
    }
   ],
   "source": [
    "# 计算多个样本的 NMSE\n",
    "from esinet.evaluate import eval_nmse\n",
    "\n",
    "nmse_values3 = []\n",
    "\n",
    "for y_true_, y_pred_ in zip(y_true, y_pred3):\n",
    "    \n",
    "    # 计算每个样本的 NMSE\n",
    "    nmse_sample = eval_nmse(y_true_, y_pred_)\n",
    "    nmse_values3.append(nmse_sample)\n",
    "\n",
    "# 计算平均 MSE 和 NMSE\n",
    "mean_nmse3 = np.mean(nmse_values3)\n",
    "\n",
    "# 计算标准差\n",
    "nmse_std3 = np.std(nmse_values3)\n",
    "\n",
    "# 输出结果\n",
    "print(\"平均 NMSE across samples:\", mean_nmse3)\n",
    "print(\"NMSE 的标准差:\", nmse_std3)"
   ]
  },
  {
   "cell_type": "code",
   "execution_count": 15,
   "id": "b6a3340b-61cf-4f0b-8008-c59e33d694da",
   "metadata": {},
   "outputs": [
    {
     "name": "stdout",
     "output_type": "stream",
     "text": [
      "平均 NMSE across samples: 0.0035960610717518542\n",
      "NMSE 的标准差: 0.002512227165247886\n"
     ]
    }
   ],
   "source": [
    "# 计算多个样本的 NMSE\n",
    "from esinet.evaluate import eval_nmse\n",
    "\n",
    "nmse_values4 = []\n",
    "\n",
    "for y_true_, y_pred_ in zip(y_true, y_pred4):\n",
    "    \n",
    "    # 计算每个样本的 NMSE\n",
    "    nmse_sample = eval_nmse(y_true_, y_pred_)\n",
    "    nmse_values4.append(nmse_sample)\n",
    "\n",
    "# 计算平均 MSE 和 NMSE\n",
    "mean_nmse4 = np.mean(nmse_values4)\n",
    "\n",
    "# 计算标准差\n",
    "nmse_std4 = np.std(nmse_values4)\n",
    "\n",
    "# 输出结果\n",
    "print(\"平均 NMSE across samples:\", mean_nmse4)\n",
    "print(\"NMSE 的标准差:\", nmse_std4)"
   ]
  },
  {
   "cell_type": "code",
   "execution_count": 8,
   "id": "252df041-f26d-4608-95b0-1c70ac7d3ebb",
   "metadata": {},
   "outputs": [],
   "source": [
    "# 计算多个样本的 MLE\n",
    "from esinet.evaluate import eval_mean_localization_error\n",
    "\n",
    "def evals(y_true, y_hat, pos):\n",
    "    n_samples, n_time = y_true.shape[:2]\n",
    "    n_samples = int(n_samples/2)   # 节省时间\n",
    "    mles = np.zeros((n_samples,))\n",
    "\n",
    "    for i in range(n_samples):\n",
    "        sample_mles = np.zeros((n_time,))\n",
    "\n",
    "        for j in range(n_time):\n",
    "            sample_mles[j] = eval_mean_localization_error(y_true[i, j], y_hat[i, j], pos)\n",
    "\n",
    "        # 在计算平均值之前检查 sample_mles 是否为空\n",
    "        if not np.isnan(sample_mles).all():\n",
    "            mles[i] = np.nanmean(sample_mles)\n",
    "\n",
    "    # 对样本取平均值\n",
    "    avg_mle = np.nanmean(mles)\n",
    "\n",
    "    # 计算标准差\n",
    "    mle_std = np.nanstd(mles)\n",
    "\n",
    "    return avg_mle, mle_std"
   ]
  },
  {
   "cell_type": "code",
   "execution_count": 10,
   "id": "20ceae16-86db-4b07-88b4-488aa8436ded",
   "metadata": {},
   "outputs": [
    {
     "name": "stdout",
     "output_type": "stream",
     "text": [
      "模型1—平均 MLE across samples: 24.742374933941942\n",
      "MLE 的标准差: 6.085891234039336\n"
     ]
    }
   ],
   "source": [
    "# 调用 evals 函数并打印结果\n",
    "pos = np.load('pos.npy')\n",
    "avg_mle_result1, mle_std_result1 = evals(y_true, y_pred1, pos)\n",
    "print(\"模型1—平均 MLE across samples:\", avg_mle_result1)\n",
    "print(\"MLE 的标准差:\", mle_std_result1)"
   ]
  },
  {
   "cell_type": "code",
   "execution_count": 16,
   "id": "dbc63b50-2b4e-44ed-a22a-37233c51d8b7",
   "metadata": {},
   "outputs": [
    {
     "name": "stdout",
     "output_type": "stream",
     "text": [
      "模型1—平均 MLE across samples: 29.846655704914525\n",
      "MLE 的标准差: 3.6310331610944613\n"
     ]
    }
   ],
   "source": [
    "# 调用 evals 函数并打印结果\n",
    "avg_mle_result2, mle_std_result2 = evals(y_true, y_pred2, pos)\n",
    "print(\"模型1—平均 MLE across samples:\", avg_mle_result2)\n",
    "print(\"MLE 的标准差:\", mle_std_result2)"
   ]
  },
  {
   "cell_type": "code",
   "execution_count": 17,
   "id": "6abbe52a-2877-4543-aca2-fed1365cef3e",
   "metadata": {},
   "outputs": [
    {
     "name": "stdout",
     "output_type": "stream",
     "text": [
      "模型1—平均 MLE across samples: 22.945351694384993\n",
      "MLE 的标准差: 5.320477166949594\n"
     ]
    }
   ],
   "source": [
    "# 调用 evals 函数并打印结果\n",
    "avg_mle_result3, mle_std_result3 = evals(y_true, y_pred3, pos)\n",
    "print(\"模型1—平均 MLE across samples:\", avg_mle_result3)\n",
    "print(\"MLE 的标准差:\", mle_std_result3)"
   ]
  },
  {
   "cell_type": "code",
   "execution_count": 29,
   "id": "11154123-e14e-4d73-b0b3-973fe85da420",
   "metadata": {},
   "outputs": [
    {
     "name": "stdout",
     "output_type": "stream",
     "text": [
      "模型1—平均 MLE across samples: 13.041149465863333\n",
      "MLE 的标准差: 8.510134624965366\n"
     ]
    }
   ],
   "source": [
    "# 调用 evals 函数并打印结果\n",
    "avg_mle_result4, mle_std_result4 = evals(y_true, y_pred4, pos)\n",
    "print(\"模型1—平均 MLE across samples:\", avg_mle_result4)\n",
    "print(\"MLE 的标准差:\", mle_std_result4)"
   ]
  },
  {
   "cell_type": "code",
   "execution_count": 19,
   "id": "d9196909-a1ca-4d05-a50e-dac65dccb66f",
   "metadata": {},
   "outputs": [
    {
     "name": "stdout",
     "output_type": "stream",
     "text": [
      "平均 AUC across samples: 0.6462798667322485\n",
      "AUC 的标准差: 0.19354559780431427\n"
     ]
    }
   ],
   "source": [
    "# 计算多个样本的 AUC\n",
    "from esinet.evaluate import auc_metric\n",
    "# 调用 auc_metric 函数，计算平均AUC，注意这里的y_true 维度: (1000, 25, 1284)，y_pred 维度: (1000, 25, 1284)\n",
    "mean_auc1, std_auc1 = auc_metric(y_true, y_pred1)\n",
    "# 输出平均 AUC\n",
    "print(\"平均 AUC across samples:\", mean_auc1)\n",
    "print(\"AUC 的标准差:\", std_auc1)"
   ]
  },
  {
   "cell_type": "code",
   "execution_count": 20,
   "id": "1d22fbd9-fe92-4a27-b937-d6a548909bd0",
   "metadata": {},
   "outputs": [
    {
     "name": "stdout",
     "output_type": "stream",
     "text": [
      "平均 AUC across samples: 0.7748896543989048\n",
      "AUC 的标准差: 0.12734260919855067\n"
     ]
    }
   ],
   "source": [
    "# 计算多个样本的 AUC\n",
    "from esinet.evaluate import auc_metric\n",
    "# 调用 auc_metric 函数，计算平均AUC，注意这里的y_true 维度: (1000, 25, 1284)，y_pred 维度: (1000, 25, 1284)\n",
    "mean_auc2, std_auc2 = auc_metric(y_true, y_pred2)\n",
    "# 输出平均 AUC\n",
    "print(\"平均 AUC across samples:\", mean_auc2)\n",
    "print(\"AUC 的标准差:\", std_auc2)"
   ]
  },
  {
   "cell_type": "code",
   "execution_count": 21,
   "id": "c0b0f149-8d0d-4a51-a848-47bfef5fbca8",
   "metadata": {},
   "outputs": [
    {
     "name": "stdout",
     "output_type": "stream",
     "text": [
      "平均 AUC across samples: 0.5309370869541581\n",
      "AUC 的标准差: 0.10928006096626554\n"
     ]
    }
   ],
   "source": [
    "# 计算多个样本的 AUC\n",
    "from esinet.evaluate import auc_metric\n",
    "# 调用 auc_metric 函数，计算平均AUC，注意这里的y_true 维度: (1000, 25, 1284)，y_pred 维度: (1000, 25, 1284)\n",
    "mean_auc3, std_auc3 = auc_metric(y_true, y_pred3)\n",
    "# 输出平均 AUC\n",
    "print(\"平均 AUC across samples:\", mean_auc3)\n",
    "print(\"AUC 的标准差:\", std_auc3)"
   ]
  },
  {
   "cell_type": "code",
   "execution_count": 30,
   "id": "86195c88-30f8-4a56-ad0f-b9174b284d5f",
   "metadata": {},
   "outputs": [
    {
     "name": "stderr",
     "output_type": "stream",
     "text": [
      "D:\\jupyter_note\\SWX_source\\Simulated_data\\esinet\\evaluate\\evaluate.py:488: RuntimeWarning: invalid value encountered in true_divide\n",
      "  y_true_ = np.abs(y_true_) / np.max(np.abs(y_true_))\n",
      "D:\\jupyter_note\\SWX_source\\Simulated_data\\esinet\\evaluate\\evaluate.py:489: RuntimeWarning: invalid value encountered in true_divide\n",
      "  y_pred_ = np.abs(y_pred_) / np.max(np.abs(y_pred_))\n",
      "D:\\jupyter_note\\SWX_source\\Simulated_data\\esinet\\evaluate\\evaluate.py:466: RuntimeWarning: invalid value encountered in long_scalars\n",
      "  tpr = true_positive.sum() / (true_positive.sum() + false_negative.sum())\n",
      "D:\\jupyter_note\\SWX_source\\Simulated_data\\esinet\\evaluate\\evaluate.py:467: RuntimeWarning: invalid value encountered in long_scalars\n",
      "  fpr = false_positive.sum() / (false_positive.sum() + true_negative.sum())\n"
     ]
    },
    {
     "name": "stdout",
     "output_type": "stream",
     "text": [
      "平均 AUC across samples: nan\n",
      "AUC 的标准差: nan\n"
     ]
    }
   ],
   "source": [
    "# 计算多个样本的 AUC\n",
    "from esinet.evaluate import auc_metric\n",
    "# 调用 auc_metric 函数，计算平均AUC，注意这里的y_true 维度: (1000, 25, 1284)，y_pred 维度: (1000, 25, 1284)\n",
    "mean_auc4, std_auc4 = auc_metric(y_true, y_pred4)\n",
    "# 输出平均 AUC\n",
    "print(\"平均 AUC across samples:\", mean_auc4)\n",
    "print(\"AUC 的标准差:\", std_auc4)"
   ]
  },
  {
   "cell_type": "code",
   "execution_count": 24,
   "id": "7f95cc16-2355-4b11-b9c0-02941fd4cb34",
   "metadata": {},
   "outputs": [
    {
     "data": {
      "application/json": {
       "ascii": false,
       "bar_format": null,
       "colour": null,
       "elapsed": 0.017951488494873047,
       "initial": 0,
       "n": 0,
       "ncols": null,
       "nrows": 29,
       "postfix": null,
       "prefix": "",
       "rate": null,
       "total": 62,
       "unit": "it",
       "unit_divisor": 1000,
       "unit_scale": false
      },
      "application/vnd.jupyter.widget-view+json": {
       "model_id": "3836bfdf5eb546389473533d5852686c",
       "version_major": 2,
       "version_minor": 0
      },
      "text/plain": [
       "  0%|          | 0/62 [00:00<?, ?it/s]"
      ]
     },
     "metadata": {},
     "output_type": "display_data"
    },
    {
     "name": "stdout",
     "output_type": "stream",
     "text": [
      "model1: Average r=0.09\n",
      "model1: Average r=0.07\n"
     ]
    }
   ],
   "source": [
    "##计算每一个样本的相关性和p值，找到相关性最强的样本，并将这个样本的预测脑图和真实脑图进行绘制\n",
    "from scipy.stats import pearsonr\n",
    "from tqdm.notebook import tqdm\n",
    "# 模型预测和评估：\n",
    "best_sample_idx_model = None\n",
    "best_r_model = -1  # 初始值设为一个较小的值，确保它会被更新\n",
    "best_p_value_model = 1  # 初始值设为一个较大的值，确保它会被更新\n",
    "average_r_model = 0  # 初始化累计变量\n",
    "correlations1=[]\n",
    "for idx in tqdm(range(n_samples)):\n",
    "    n = sim_test.simulation_info[\"number_of_sources\"].values[idx]\n",
    "    #print(f\"{n} source(s)\")\n",
    "\n",
    "    # 模型1的预测和评估\n",
    "    r_model, p_value_model = pearsonr(y_pred1[idx].flatten(), y_true[idx].flatten())\n",
    "    correlations1.append(r_model)\n",
    "\n",
    "    # 更新最佳样本信息\n",
    "    if r_model > best_r_model:\n",
    "        best_r_model = r_model\n",
    "        best_p_value_model = p_value_model\n",
    "        best_sample_idx_model = idx\n",
    "         # 累计结果\n",
    "    average_r_model += r_model\n",
    "\n",
    "# 计算平均值\n",
    "average_r_model /= n_samples\n",
    "variance_r_model1 = np.std(correlations1)\n",
    "print(f\"model1: Average r={average_r_model:.2f}\")\n",
    "print(f\"model1: Average r={variance_r_model1:.2f}\")"
   ]
  },
  {
   "cell_type": "code",
   "execution_count": 25,
   "id": "84625fa2",
   "metadata": {},
   "outputs": [
    {
     "data": {
      "application/json": {
       "ascii": false,
       "bar_format": null,
       "colour": null,
       "elapsed": 0.02693486213684082,
       "initial": 0,
       "n": 0,
       "ncols": null,
       "nrows": 29,
       "postfix": null,
       "prefix": "",
       "rate": null,
       "total": 62,
       "unit": "it",
       "unit_divisor": 1000,
       "unit_scale": false
      },
      "application/vnd.jupyter.widget-view+json": {
       "model_id": "342756a182d74b23822dfa3aed6661dd",
       "version_major": 2,
       "version_minor": 0
      },
      "text/plain": [
       "  0%|          | 0/62 [00:00<?, ?it/s]"
      ]
     },
     "metadata": {},
     "output_type": "display_data"
    },
    {
     "name": "stdout",
     "output_type": "stream",
     "text": [
      "model2: Average r=0.16\n",
      "model2: Average r=0.08\n"
     ]
    }
   ],
   "source": [
    "# 模型预测和评估：\n",
    "best_sample_idx_model = None\n",
    "best_r_model = -1  # 初始值设为一个较小的值，确保它会被更新\n",
    "best_p_value_model = 1  # 初始值设为一个较大的值，确保它会被更新\n",
    "average_r_model = 0  # 初始化累计变量\n",
    "correlations1=[]\n",
    "for idx in tqdm(range(n_samples)):\n",
    "    n = sim_test.simulation_info[\"number_of_sources\"].values[idx]\n",
    "    #print(f\"{n} source(s)\")\n",
    "\n",
    "    # 模型1的预测和评估\n",
    "    r_model, p_value_model = pearsonr(y_pred2[idx].flatten(), y_true[idx].flatten())\n",
    "    correlations1.append(r_model)\n",
    "\n",
    "    # 更新最佳样本信息\n",
    "    if r_model > best_r_model:\n",
    "        best_r_model = r_model\n",
    "        best_p_value_model = p_value_model\n",
    "        best_sample_idx_model = idx\n",
    "         # 累计结果\n",
    "    average_r_model += r_model\n",
    "\n",
    "# 计算平均值\n",
    "average_r_model /= n_samples\n",
    "variance_r_model1 = np.std(correlations1)\n",
    "print(f\"model2: Average r={average_r_model:.2f}\")\n",
    "print(f\"model2: Average r={variance_r_model1:.2f}\")"
   ]
  },
  {
   "cell_type": "code",
   "execution_count": 26,
   "id": "69a3ff6a",
   "metadata": {},
   "outputs": [
    {
     "data": {
      "application/json": {
       "ascii": false,
       "bar_format": null,
       "colour": null,
       "elapsed": 0.025906801223754883,
       "initial": 0,
       "n": 0,
       "ncols": null,
       "nrows": 29,
       "postfix": null,
       "prefix": "",
       "rate": null,
       "total": 62,
       "unit": "it",
       "unit_divisor": 1000,
       "unit_scale": false
      },
      "application/vnd.jupyter.widget-view+json": {
       "model_id": "d9b9f2251c354e93a429d5408fe1ec11",
       "version_major": 2,
       "version_minor": 0
      },
      "text/plain": [
       "  0%|          | 0/62 [00:00<?, ?it/s]"
      ]
     },
     "metadata": {},
     "output_type": "display_data"
    },
    {
     "name": "stdout",
     "output_type": "stream",
     "text": [
      "model3: Average r=0.04\n",
      "model3: Average r=0.07\n"
     ]
    }
   ],
   "source": [
    "# 模型预测和评估：\n",
    "best_sample_idx_model = None\n",
    "best_r_model = -1  # 初始值设为一个较小的值，确保它会被更新\n",
    "best_p_value_model = 1  # 初始值设为一个较大的值，确保它会被更新\n",
    "average_r_model = 0  # 初始化累计变量\n",
    "correlations1=[]\n",
    "for idx in tqdm(range(n_samples)):\n",
    "    n = sim_test.simulation_info[\"number_of_sources\"].values[idx]\n",
    "    #print(f\"{n} source(s)\")\n",
    "\n",
    "    # 模型1的预测和评估\n",
    "    r_model, p_value_model = pearsonr(y_pred3[idx].flatten(), y_true[idx].flatten())\n",
    "    correlations1.append(r_model)\n",
    "\n",
    "    # 更新最佳样本信息\n",
    "    if r_model > best_r_model:\n",
    "        best_r_model = r_model\n",
    "        best_p_value_model = p_value_model\n",
    "        best_sample_idx_model = idx\n",
    "         # 累计结果\n",
    "    average_r_model += r_model\n",
    "\n",
    "# 计算平均值\n",
    "average_r_model /= n_samples\n",
    "variance_r_model1 = np.std(correlations1)\n",
    "print(f\"model3: Average r={average_r_model:.2f}\")\n",
    "print(f\"model3: Average r={variance_r_model1:.2f}\")"
   ]
  },
  {
   "cell_type": "code",
   "execution_count": 27,
   "id": "8bfc949d",
   "metadata": {},
   "outputs": [
    {
     "data": {
      "application/json": {
       "ascii": false,
       "bar_format": null,
       "colour": null,
       "elapsed": 0.02094411849975586,
       "initial": 0,
       "n": 0,
       "ncols": null,
       "nrows": 29,
       "postfix": null,
       "prefix": "",
       "rate": null,
       "total": 62,
       "unit": "it",
       "unit_divisor": 1000,
       "unit_scale": false
      },
      "application/vnd.jupyter.widget-view+json": {
       "model_id": "e1bbccf92871422dae58dc5381303b4d",
       "version_major": 2,
       "version_minor": 0
      },
      "text/plain": [
       "  0%|          | 0/62 [00:00<?, ?it/s]"
      ]
     },
     "metadata": {},
     "output_type": "display_data"
    },
    {
     "name": "stdout",
     "output_type": "stream",
     "text": [
      "model4: Average r=0.04\n",
      "model4: Average r=0.07\n"
     ]
    }
   ],
   "source": [
    "# 模型预测和评估：\n",
    "best_sample_idx_model = None\n",
    "best_r_model = -1  # 初始值设为一个较小的值，确保它会被更新\n",
    "best_p_value_model = 1  # 初始值设为一个较大的值，确保它会被更新\n",
    "average_r_model = 0  # 初始化累计变量\n",
    "correlations1=[]\n",
    "for idx in tqdm(range(n_samples)):\n",
    "    n = sim_test.simulation_info[\"number_of_sources\"].values[idx]\n",
    "    #print(f\"{n} source(s)\")\n",
    "\n",
    "    # 模型1的预测和评估\n",
    "    r_model, p_value_model = pearsonr(y_pred4[idx].flatten(), y_true[idx].flatten())\n",
    "    correlations1.append(r_model)\n",
    "\n",
    "    # 更新最佳样本信息\n",
    "    if r_model > best_r_model:\n",
    "        best_r_model = r_model\n",
    "        best_p_value_model = p_value_model\n",
    "        best_sample_idx_model = idx\n",
    "         # 累计结果\n",
    "    average_r_model += r_model\n",
    "\n",
    "# 计算平均值\n",
    "average_r_model /= n_samples\n",
    "variance_r_model1 = np.std(correlations1)\n",
    "print(f\"model4: Average r={average_r_model:.2f}\")\n",
    "print(f\"model4: Average r={variance_r_model1:.2f}\")"
   ]
  },
  {
   "cell_type": "code",
   "execution_count": null,
   "id": "7f7432b0",
   "metadata": {},
   "outputs": [],
   "source": []
  }
 ],
 "metadata": {
  "kernelspec": {
   "display_name": "Python 3",
   "language": "python",
   "name": "python3"
  },
  "language_info": {
   "codemirror_mode": {
    "name": "ipython",
    "version": 3
   },
   "file_extension": ".py",
   "mimetype": "text/x-python",
   "name": "python",
   "nbconvert_exporter": "python",
   "pygments_lexer": "ipython3",
   "version": "3.8.18"
  }
 },
 "nbformat": 4,
 "nbformat_minor": 5
}
