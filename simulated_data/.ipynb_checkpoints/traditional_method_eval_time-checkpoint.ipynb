{
 "cells": [
  {
   "cell_type": "code",
   "execution_count": 83,
   "id": "0cfaa864-24b0-4183-bd93-15f088573096",
   "metadata": {},
   "outputs": [
    {
     "name": "stdout",
     "output_type": "stream",
     "text": [
      "Reading forward solution from D:\\jupyter_note\\SWX_source\\Simulated_data\\fwd_daodianlv.fif...\n",
      "    Reading a source space...\n",
      "    [done]\n",
      "    Reading a source space...\n",
      "    [done]\n",
      "    2 source spaces read\n",
      "    Desired named matrix (kind = 3523) not available\n",
      "    Read EEG forward solution (844 sources, 60 channels, free orientations)\n",
      "    Source spaces transformed to the forward solution coordinate frame\n",
      "(1000, 844, 26)\n"
     ]
    },
    {
     "name": "stderr",
     "output_type": "stream",
     "text": [
      "<ipython-input-83-48080726f558>:9: RuntimeWarning: This filename (fwd_daodianlv.fif) does not conform to MNE naming conventions. All forward files should end with -fwd.fif, -fwd.fif.gz, _fwd.fif, _fwd.fif.gz, -fwd.h5 or _fwd.h5\n",
      "  fwd = mne.read_forward_solution('fwd_daodianlv.fif')\n"
     ]
    }
   ],
   "source": [
    "from invert import Solver\n",
    "import mne\n",
    "import numpy as np\n",
    "import pickle\n",
    "\n",
    "with open( 'D:/jupyter_note/SWX_source/Simulated_data/sim_128.pkl', 'rb') as file:\n",
    "    sim_test = pickle.load(file)\n",
    "\n",
    "fwd = mne.read_forward_solution('fwd_128.fif')\n",
    "# 这里一定要加一个condition=0，不然会变为list类型，会报错\n",
    "\n",
    "# 指定画图参数\n",
    "plot_params = dict(surface='white', initial_time=0.05, views=('lateral'), hemi='both', verbose=0)\n",
    "\n",
    "y_true = np.load('D:/jupyter_note/SWX_source/Simulated_data/y_test_128.npy')\n",
    "print(y_true.shape)"
   ]
  },
  {
   "cell_type": "code",
   "execution_count": 84,
   "id": "1710c26e-9d0e-4657-b1a5-2300f45b61f5",
   "metadata": {},
   "outputs": [
    {
     "name": "stdout",
     "output_type": "stream",
     "text": [
      "Forward model has free source orientation. This is currently not possible, converting to fixed.\n",
      "NOTE: pick_types() is a legacy function. New code should use inst.pick(...).\n",
      "NOTE: pick_channels() is a legacy function. New code should use inst.pick(...).\n",
      "Forward model has free source orientation. This is currently not possible, converting to fixed.\n",
      "NOTE: pick_types() is a legacy function. New code should use inst.pick(...).\n",
      "NOTE: pick_channels() is a legacy function. New code should use inst.pick(...).\n",
      "Forward model has free source orientation. This is currently not possible, converting to fixed.\n",
      "NOTE: pick_types() is a legacy function. New code should use inst.pick(...).\n",
      "NOTE: pick_channels() is a legacy function. New code should use inst.pick(...).\n",
      "Forward model has free source orientation. This is currently not possible, converting to fixed.\n",
      "NOTE: pick_types() is a legacy function. New code should use inst.pick(...).\n",
      "NOTE: pick_channels() is a legacy function. New code should use inst.pick(...).\n",
      "NOTE: pick_types() is a legacy function. New code should use inst.pick(...).\n",
      "NOTE: pick_channels() is a legacy function. New code should use inst.pick(...).\n",
      "Forward model has free source orientation. This is currently not possible, converting to fixed.\n",
      "NOTE: pick_types() is a legacy function. New code should use inst.pick(...).\n",
      "NOTE: pick_channels() is a legacy function. New code should use inst.pick(...).\n",
      "Forward model has free source orientation. This is currently not possible, converting to fixed.\n",
      "NOTE: pick_types() is a legacy function. New code should use inst.pick(...).\n",
      "NOTE: pick_channels() is a legacy function. New code should use inst.pick(...).\n",
      "Forward model has free source orientation. This is currently not possible, converting to fixed.\n",
      "NOTE: pick_types() is a legacy function. New code should use inst.pick(...).\n",
      "NOTE: pick_channels() is a legacy function. New code should use inst.pick(...).\n",
      "Forward model has free source orientation. This is currently not possible, converting to fixed.\n",
      "NOTE: pick_types() is a legacy function. New code should use inst.pick(...).\n",
      "NOTE: pick_channels() is a legacy function. New code should use inst.pick(...).\n",
      "NOTE: pick_types() is a legacy function. New code should use inst.pick(...).\n",
      "NOTE: pick_channels() is a legacy function. New code should use inst.pick(...).\n",
      "Forward model has free source orientation. This is currently not possible, converting to fixed.\n",
      "NOTE: pick_types() is a legacy function. New code should use inst.pick(...).\n",
      "NOTE: pick_channels() is a legacy function. New code should use inst.pick(...).\n",
      "Forward model has free source orientation. This is currently not possible, converting to fixed.\n",
      "NOTE: pick_types() is a legacy function. New code should use inst.pick(...).\n",
      "NOTE: pick_channels() is a legacy function. New code should use inst.pick(...).\n",
      "Forward model has free source orientation. This is currently not possible, converting to fixed.\n",
      "NOTE: pick_types() is a legacy function. New code should use inst.pick(...).\n",
      "NOTE: pick_channels() is a legacy function. New code should use inst.pick(...).\n",
      "Forward model has free source orientation. This is currently not possible, converting to fixed.\n",
      "NOTE: pick_types() is a legacy function. New code should use inst.pick(...).\n",
      "NOTE: pick_channels() is a legacy function. New code should use inst.pick(...).\n",
      "NOTE: pick_types() is a legacy function. New code should use inst.pick(...).\n",
      "NOTE: pick_channels() is a legacy function. New code should use inst.pick(...).\n",
      "Forward model has free source orientation. This is currently not possible, converting to fixed.\n",
      "NOTE: pick_types() is a legacy function. New code should use inst.pick(...).\n",
      "NOTE: pick_channels() is a legacy function. New code should use inst.pick(...).\n",
      "Forward model has free source orientation. This is currently not possible, converting to fixed.\n",
      "NOTE: pick_types() is a legacy function. New code should use inst.pick(...).\n",
      "NOTE: pick_channels() is a legacy function. New code should use inst.pick(...).\n",
      "Forward model has free source orientation. This is currently not possible, converting to fixed.\n",
      "NOTE: pick_types() is a legacy function. New code should use inst.pick(...).\n",
      "NOTE: pick_channels() is a legacy function. New code should use inst.pick(...).\n",
      "Forward model has free source orientation. This is currently not possible, converting to fixed.\n",
      "NOTE: pick_types() is a legacy function. New code should use inst.pick(...).\n",
      "NOTE: pick_channels() is a legacy function. New code should use inst.pick(...).\n",
      "NOTE: pick_types() is a legacy function. New code should use inst.pick(...).\n",
      "NOTE: pick_channels() is a legacy function. New code should use inst.pick(...).\n",
      "Forward model has free source orientation. This is currently not possible, converting to fixed.\n",
      "NOTE: pick_types() is a legacy function. New code should use inst.pick(...).\n",
      "NOTE: pick_channels() is a legacy function. New code should use inst.pick(...).\n",
      "Forward model has free source orientation. This is currently not possible, converting to fixed.\n",
      "NOTE: pick_types() is a legacy function. New code should use inst.pick(...).\n",
      "NOTE: pick_channels() is a legacy function. New code should use inst.pick(...).\n",
      "Forward model has free source orientation. This is currently not possible, converting to fixed.\n",
      "NOTE: pick_types() is a legacy function. New code should use inst.pick(...).\n",
      "NOTE: pick_channels() is a legacy function. New code should use inst.pick(...).\n",
      "Forward model has free source orientation. This is currently not possible, converting to fixed.\n",
      "NOTE: pick_types() is a legacy function. New code should use inst.pick(...).\n",
      "NOTE: pick_channels() is a legacy function. New code should use inst.pick(...).\n",
      "NOTE: pick_types() is a legacy function. New code should use inst.pick(...).\n",
      "NOTE: pick_channels() is a legacy function. New code should use inst.pick(...).\n",
      "Forward model has free source orientation. This is currently not possible, converting to fixed.\n",
      "NOTE: pick_types() is a legacy function. New code should use inst.pick(...).\n",
      "NOTE: pick_channels() is a legacy function. New code should use inst.pick(...).\n",
      "Forward model has free source orientation. This is currently not possible, converting to fixed.\n",
      "NOTE: pick_types() is a legacy function. New code should use inst.pick(...).\n",
      "NOTE: pick_channels() is a legacy function. New code should use inst.pick(...).\n",
      "Forward model has free source orientation. This is currently not possible, converting to fixed.\n",
      "NOTE: pick_types() is a legacy function. New code should use inst.pick(...).\n",
      "NOTE: pick_channels() is a legacy function. New code should use inst.pick(...).\n",
      "Forward model has free source orientation. This is currently not possible, converting to fixed.\n",
      "NOTE: pick_types() is a legacy function. New code should use inst.pick(...).\n",
      "NOTE: pick_channels() is a legacy function. New code should use inst.pick(...).\n",
      "NOTE: pick_types() is a legacy function. New code should use inst.pick(...).\n",
      "NOTE: pick_channels() is a legacy function. New code should use inst.pick(...).\n",
      "Forward model has free source orientation. This is currently not possible, converting to fixed.\n",
      "NOTE: pick_types() is a legacy function. New code should use inst.pick(...).\n",
      "NOTE: pick_channels() is a legacy function. New code should use inst.pick(...).\n",
      "Forward model has free source orientation. This is currently not possible, converting to fixed.\n",
      "NOTE: pick_types() is a legacy function. New code should use inst.pick(...).\n",
      "NOTE: pick_channels() is a legacy function. New code should use inst.pick(...).\n",
      "Forward model has free source orientation. This is currently not possible, converting to fixed.\n",
      "NOTE: pick_types() is a legacy function. New code should use inst.pick(...).\n",
      "NOTE: pick_channels() is a legacy function. New code should use inst.pick(...).\n",
      "Forward model has free source orientation. This is currently not possible, converting to fixed.\n",
      "NOTE: pick_types() is a legacy function. New code should use inst.pick(...).\n",
      "NOTE: pick_channels() is a legacy function. New code should use inst.pick(...).\n",
      "NOTE: pick_types() is a legacy function. New code should use inst.pick(...).\n",
      "NOTE: pick_channels() is a legacy function. New code should use inst.pick(...).\n",
      "Forward model has free source orientation. This is currently not possible, converting to fixed.\n",
      "NOTE: pick_types() is a legacy function. New code should use inst.pick(...).\n"
     ]
    },
    {
     "name": "stdout",
     "output_type": "stream",
     "text": [
      "NOTE: pick_channels() is a legacy function. New code should use inst.pick(...).\n",
      "Forward model has free source orientation. This is currently not possible, converting to fixed.\n",
      "NOTE: pick_types() is a legacy function. New code should use inst.pick(...).\n",
      "NOTE: pick_channels() is a legacy function. New code should use inst.pick(...).\n",
      "Forward model has free source orientation. This is currently not possible, converting to fixed.\n",
      "NOTE: pick_types() is a legacy function. New code should use inst.pick(...).\n",
      "NOTE: pick_channels() is a legacy function. New code should use inst.pick(...).\n",
      "Forward model has free source orientation. This is currently not possible, converting to fixed.\n",
      "NOTE: pick_types() is a legacy function. New code should use inst.pick(...).\n",
      "NOTE: pick_channels() is a legacy function. New code should use inst.pick(...).\n",
      "NOTE: pick_types() is a legacy function. New code should use inst.pick(...).\n",
      "NOTE: pick_channels() is a legacy function. New code should use inst.pick(...).\n",
      "Forward model has free source orientation. This is currently not possible, converting to fixed.\n",
      "NOTE: pick_types() is a legacy function. New code should use inst.pick(...).\n",
      "NOTE: pick_channels() is a legacy function. New code should use inst.pick(...).\n",
      "Forward model has free source orientation. This is currently not possible, converting to fixed.\n",
      "NOTE: pick_types() is a legacy function. New code should use inst.pick(...).\n",
      "NOTE: pick_channels() is a legacy function. New code should use inst.pick(...).\n",
      "Forward model has free source orientation. This is currently not possible, converting to fixed.\n",
      "NOTE: pick_types() is a legacy function. New code should use inst.pick(...).\n",
      "NOTE: pick_channels() is a legacy function. New code should use inst.pick(...).\n",
      "Forward model has free source orientation. This is currently not possible, converting to fixed.\n",
      "NOTE: pick_types() is a legacy function. New code should use inst.pick(...).\n",
      "NOTE: pick_channels() is a legacy function. New code should use inst.pick(...).\n",
      "NOTE: pick_types() is a legacy function. New code should use inst.pick(...).\n",
      "NOTE: pick_channels() is a legacy function. New code should use inst.pick(...).\n",
      "Forward model has free source orientation. This is currently not possible, converting to fixed.\n",
      "NOTE: pick_types() is a legacy function. New code should use inst.pick(...).\n",
      "NOTE: pick_channels() is a legacy function. New code should use inst.pick(...).\n",
      "Forward model has free source orientation. This is currently not possible, converting to fixed.\n",
      "NOTE: pick_types() is a legacy function. New code should use inst.pick(...).\n",
      "NOTE: pick_channels() is a legacy function. New code should use inst.pick(...).\n",
      "Forward model has free source orientation. This is currently not possible, converting to fixed.\n",
      "NOTE: pick_types() is a legacy function. New code should use inst.pick(...).\n",
      "NOTE: pick_channels() is a legacy function. New code should use inst.pick(...).\n",
      "Forward model has free source orientation. This is currently not possible, converting to fixed.\n",
      "NOTE: pick_types() is a legacy function. New code should use inst.pick(...).\n",
      "NOTE: pick_channels() is a legacy function. New code should use inst.pick(...).\n",
      "NOTE: pick_types() is a legacy function. New code should use inst.pick(...).\n",
      "NOTE: pick_channels() is a legacy function. New code should use inst.pick(...).\n",
      "Forward model has free source orientation. This is currently not possible, converting to fixed.\n",
      "NOTE: pick_types() is a legacy function. New code should use inst.pick(...).\n",
      "NOTE: pick_channels() is a legacy function. New code should use inst.pick(...).\n",
      "Forward model has free source orientation. This is currently not possible, converting to fixed.\n",
      "NOTE: pick_types() is a legacy function. New code should use inst.pick(...).\n",
      "NOTE: pick_channels() is a legacy function. New code should use inst.pick(...).\n",
      "Forward model has free source orientation. This is currently not possible, converting to fixed.\n",
      "NOTE: pick_types() is a legacy function. New code should use inst.pick(...).\n",
      "NOTE: pick_channels() is a legacy function. New code should use inst.pick(...).\n",
      "Forward model has free source orientation. This is currently not possible, converting to fixed.\n",
      "NOTE: pick_types() is a legacy function. New code should use inst.pick(...).\n",
      "NOTE: pick_channels() is a legacy function. New code should use inst.pick(...).\n",
      "NOTE: pick_types() is a legacy function. New code should use inst.pick(...).\n",
      "NOTE: pick_channels() is a legacy function. New code should use inst.pick(...).\n",
      "Forward model has free source orientation. This is currently not possible, converting to fixed.\n",
      "NOTE: pick_types() is a legacy function. New code should use inst.pick(...).\n",
      "NOTE: pick_channels() is a legacy function. New code should use inst.pick(...).\n",
      "Forward model has free source orientation. This is currently not possible, converting to fixed.\n",
      "NOTE: pick_types() is a legacy function. New code should use inst.pick(...).\n",
      "NOTE: pick_channels() is a legacy function. New code should use inst.pick(...).\n",
      "Forward model has free source orientation. This is currently not possible, converting to fixed.\n",
      "NOTE: pick_types() is a legacy function. New code should use inst.pick(...).\n",
      "NOTE: pick_channels() is a legacy function. New code should use inst.pick(...).\n",
      "Forward model has free source orientation. This is currently not possible, converting to fixed.\n",
      "NOTE: pick_types() is a legacy function. New code should use inst.pick(...).\n",
      "NOTE: pick_channels() is a legacy function. New code should use inst.pick(...).\n",
      "NOTE: pick_types() is a legacy function. New code should use inst.pick(...).\n",
      "NOTE: pick_channels() is a legacy function. New code should use inst.pick(...).\n",
      "Forward model has free source orientation. This is currently not possible, converting to fixed.\n",
      "NOTE: pick_types() is a legacy function. New code should use inst.pick(...).\n",
      "NOTE: pick_channels() is a legacy function. New code should use inst.pick(...).\n",
      "Forward model has free source orientation. This is currently not possible, converting to fixed.\n",
      "NOTE: pick_types() is a legacy function. New code should use inst.pick(...).\n",
      "NOTE: pick_channels() is a legacy function. New code should use inst.pick(...).\n",
      "Forward model has free source orientation. This is currently not possible, converting to fixed.\n",
      "NOTE: pick_types() is a legacy function. New code should use inst.pick(...).\n",
      "NOTE: pick_channels() is a legacy function. New code should use inst.pick(...).\n",
      "Forward model has free source orientation. This is currently not possible, converting to fixed.\n",
      "NOTE: pick_types() is a legacy function. New code should use inst.pick(...).\n",
      "NOTE: pick_channels() is a legacy function. New code should use inst.pick(...).\n",
      "NOTE: pick_types() is a legacy function. New code should use inst.pick(...).\n",
      "NOTE: pick_channels() is a legacy function. New code should use inst.pick(...).\n",
      "Forward model has free source orientation. This is currently not possible, converting to fixed.\n",
      "NOTE: pick_types() is a legacy function. New code should use inst.pick(...).\n",
      "NOTE: pick_channels() is a legacy function. New code should use inst.pick(...).\n",
      "Forward model has free source orientation. This is currently not possible, converting to fixed.\n",
      "NOTE: pick_types() is a legacy function. New code should use inst.pick(...).\n",
      "NOTE: pick_channels() is a legacy function. New code should use inst.pick(...).\n",
      "Forward model has free source orientation. This is currently not possible, converting to fixed.\n",
      "NOTE: pick_types() is a legacy function. New code should use inst.pick(...).\n",
      "NOTE: pick_channels() is a legacy function. New code should use inst.pick(...).\n",
      "Forward model has free source orientation. This is currently not possible, converting to fixed.\n",
      "NOTE: pick_types() is a legacy function. New code should use inst.pick(...).\n",
      "NOTE: pick_channels() is a legacy function. New code should use inst.pick(...).\n",
      "NOTE: pick_types() is a legacy function. New code should use inst.pick(...).\n",
      "NOTE: pick_channels() is a legacy function. New code should use inst.pick(...).\n",
      "Forward model has free source orientation. This is currently not possible, converting to fixed.\n",
      "NOTE: pick_types() is a legacy function. New code should use inst.pick(...).\n",
      "NOTE: pick_channels() is a legacy function. New code should use inst.pick(...).\n"
     ]
    },
    {
     "name": "stdout",
     "output_type": "stream",
     "text": [
      "Forward model has free source orientation. This is currently not possible, converting to fixed.\n",
      "NOTE: pick_types() is a legacy function. New code should use inst.pick(...).\n",
      "NOTE: pick_channels() is a legacy function. New code should use inst.pick(...).\n",
      "Forward model has free source orientation. This is currently not possible, converting to fixed.\n",
      "NOTE: pick_types() is a legacy function. New code should use inst.pick(...).\n",
      "NOTE: pick_channels() is a legacy function. New code should use inst.pick(...).\n",
      "Forward model has free source orientation. This is currently not possible, converting to fixed.\n",
      "NOTE: pick_types() is a legacy function. New code should use inst.pick(...).\n",
      "NOTE: pick_channels() is a legacy function. New code should use inst.pick(...).\n",
      "NOTE: pick_types() is a legacy function. New code should use inst.pick(...).\n",
      "NOTE: pick_channels() is a legacy function. New code should use inst.pick(...).\n",
      "Forward model has free source orientation. This is currently not possible, converting to fixed.\n",
      "NOTE: pick_types() is a legacy function. New code should use inst.pick(...).\n",
      "NOTE: pick_channels() is a legacy function. New code should use inst.pick(...).\n",
      "Forward model has free source orientation. This is currently not possible, converting to fixed.\n",
      "NOTE: pick_types() is a legacy function. New code should use inst.pick(...).\n",
      "NOTE: pick_channels() is a legacy function. New code should use inst.pick(...).\n",
      "Forward model has free source orientation. This is currently not possible, converting to fixed.\n",
      "NOTE: pick_types() is a legacy function. New code should use inst.pick(...).\n",
      "NOTE: pick_channels() is a legacy function. New code should use inst.pick(...).\n",
      "Forward model has free source orientation. This is currently not possible, converting to fixed.\n",
      "NOTE: pick_types() is a legacy function. New code should use inst.pick(...).\n",
      "NOTE: pick_channels() is a legacy function. New code should use inst.pick(...).\n",
      "NOTE: pick_types() is a legacy function. New code should use inst.pick(...).\n",
      "NOTE: pick_channels() is a legacy function. New code should use inst.pick(...).\n",
      "Forward model has free source orientation. This is currently not possible, converting to fixed.\n",
      "NOTE: pick_types() is a legacy function. New code should use inst.pick(...).\n",
      "NOTE: pick_channels() is a legacy function. New code should use inst.pick(...).\n",
      "Forward model has free source orientation. This is currently not possible, converting to fixed.\n",
      "NOTE: pick_types() is a legacy function. New code should use inst.pick(...).\n",
      "NOTE: pick_channels() is a legacy function. New code should use inst.pick(...).\n",
      "Forward model has free source orientation. This is currently not possible, converting to fixed.\n",
      "NOTE: pick_types() is a legacy function. New code should use inst.pick(...).\n",
      "NOTE: pick_channels() is a legacy function. New code should use inst.pick(...).\n",
      "Forward model has free source orientation. This is currently not possible, converting to fixed.\n",
      "NOTE: pick_types() is a legacy function. New code should use inst.pick(...).\n",
      "NOTE: pick_channels() is a legacy function. New code should use inst.pick(...).\n",
      "NOTE: pick_types() is a legacy function. New code should use inst.pick(...).\n",
      "NOTE: pick_channels() is a legacy function. New code should use inst.pick(...).\n",
      "Forward model has free source orientation. This is currently not possible, converting to fixed.\n",
      "NOTE: pick_types() is a legacy function. New code should use inst.pick(...).\n",
      "NOTE: pick_channels() is a legacy function. New code should use inst.pick(...).\n",
      "Forward model has free source orientation. This is currently not possible, converting to fixed.\n",
      "NOTE: pick_types() is a legacy function. New code should use inst.pick(...).\n",
      "NOTE: pick_channels() is a legacy function. New code should use inst.pick(...).\n",
      "Forward model has free source orientation. This is currently not possible, converting to fixed.\n",
      "NOTE: pick_types() is a legacy function. New code should use inst.pick(...).\n",
      "NOTE: pick_channels() is a legacy function. New code should use inst.pick(...).\n",
      "Forward model has free source orientation. This is currently not possible, converting to fixed.\n",
      "NOTE: pick_types() is a legacy function. New code should use inst.pick(...).\n",
      "NOTE: pick_channels() is a legacy function. New code should use inst.pick(...).\n",
      "NOTE: pick_types() is a legacy function. New code should use inst.pick(...).\n",
      "NOTE: pick_channels() is a legacy function. New code should use inst.pick(...).\n",
      "Forward model has free source orientation. This is currently not possible, converting to fixed.\n",
      "NOTE: pick_types() is a legacy function. New code should use inst.pick(...).\n",
      "NOTE: pick_channels() is a legacy function. New code should use inst.pick(...).\n",
      "Forward model has free source orientation. This is currently not possible, converting to fixed.\n",
      "NOTE: pick_types() is a legacy function. New code should use inst.pick(...).\n",
      "NOTE: pick_channels() is a legacy function. New code should use inst.pick(...).\n",
      "Forward model has free source orientation. This is currently not possible, converting to fixed.\n",
      "NOTE: pick_types() is a legacy function. New code should use inst.pick(...).\n",
      "NOTE: pick_channels() is a legacy function. New code should use inst.pick(...).\n",
      "Forward model has free source orientation. This is currently not possible, converting to fixed.\n",
      "NOTE: pick_types() is a legacy function. New code should use inst.pick(...).\n",
      "NOTE: pick_channels() is a legacy function. New code should use inst.pick(...).\n",
      "NOTE: pick_types() is a legacy function. New code should use inst.pick(...).\n",
      "NOTE: pick_channels() is a legacy function. New code should use inst.pick(...).\n",
      "Forward model has free source orientation. This is currently not possible, converting to fixed.\n",
      "NOTE: pick_types() is a legacy function. New code should use inst.pick(...).\n",
      "NOTE: pick_channels() is a legacy function. New code should use inst.pick(...).\n",
      "Forward model has free source orientation. This is currently not possible, converting to fixed.\n",
      "NOTE: pick_types() is a legacy function. New code should use inst.pick(...).\n",
      "NOTE: pick_channels() is a legacy function. New code should use inst.pick(...).\n",
      "Forward model has free source orientation. This is currently not possible, converting to fixed.\n",
      "NOTE: pick_types() is a legacy function. New code should use inst.pick(...).\n",
      "NOTE: pick_channels() is a legacy function. New code should use inst.pick(...).\n",
      "Forward model has free source orientation. This is currently not possible, converting to fixed.\n",
      "NOTE: pick_types() is a legacy function. New code should use inst.pick(...).\n",
      "NOTE: pick_channels() is a legacy function. New code should use inst.pick(...).\n",
      "NOTE: pick_types() is a legacy function. New code should use inst.pick(...).\n",
      "NOTE: pick_channels() is a legacy function. New code should use inst.pick(...).\n"
     ]
    }
   ],
   "source": [
    "y_pred1=[];\n",
    "y_pred2=[];\n",
    "y_pred3=[];\n",
    "y_pred4=[];\n",
    "n_samples = y_true.shape[0]\n",
    "n_samples = int(n_samples/50)\n",
    "\n",
    "start_time1 = time.time()\n",
    "for i in range(n_samples):\n",
    "    epochs=sim_test.eeg_data[i]\n",
    "    evoked = epochs.average()\n",
    "    stc = sim_test.source_data[i]\n",
    "\n",
    "    solver_name = \"WMNE\"\n",
    "    solver = Solver(solver_name)\n",
    "    alpha = 0.1\n",
    "    # Calculate the inverse operator\n",
    "    solver.make_inverse_operator(fwd)\n",
    "    # Apply the inverse operator to your data\n",
    "    stc1 = solver.apply_inverse_operator(evoked)\n",
    "    y_pred = stc1.data\n",
    "    y_pred1.append(y_pred)\n",
    "end_time1 = time.time()\n",
    "print(f\"WMNE运行时间：{end_time1 - start_time1} 秒\")\n",
    "\n",
    "start_time2 = time.time()\n",
    "for i in range(n_samples):\n",
    "    epochs=sim_test.eeg_data[i]\n",
    "    evoked = epochs.average()\n",
    "    stc = sim_test.source_data[i]\n",
    "\n",
    "    solver_name = \"dSPM\"\n",
    "    solver = Solver(solver_name)\n",
    "    # Calculate the inverse operator\n",
    "    solver.make_inverse_operator(fwd)\n",
    "    # Apply the inverse operator to your data\n",
    "    stc2 = solver.apply_inverse_operator(evoked)\n",
    "    y_pred = stc2.data\n",
    "    y_pred2.append(y_pred)\n",
    "end_time2 = time.time()\n",
    "print(f\"WMNE运行时间：{end_time2 - start_time2} 秒\")\n",
    "\n",
    "start_time3 = time.time()\n",
    "for i in range(n_samples):\n",
    "    epochs=sim_test.eeg_data[i]\n",
    "    evoked = epochs.average()\n",
    "    stc = sim_test.source_data[i]\n",
    "\n",
    "    solver_name = \"sloreta\"\n",
    "    solver = Solver(solver_name)\n",
    "    # Calculate the inverse operator\n",
    "    solver.make_inverse_operator(fwd)\n",
    "    # Apply the inverse operator to your data\n",
    "    stc3 = solver.apply_inverse_operator(evoked)\n",
    "    y_pred = stc3.data\n",
    "    y_pred3.append(y_pred)\n",
    "end_time3 = time.time()\n",
    "print(f\"WMNE运行时间：{end_time3 - start_time3} 秒\")\n",
    "    \n",
    "start_time4 = time.time()\n",
    "for i in range(n_samples):\n",
    "    epochs=sim_test.eeg_data[i]\n",
    "    evoked = epochs.average()\n",
    "    stc = sim_test.source_data[i]\n",
    "\n",
    "    solver_name = \"champagne\"\n",
    "    solver = Solver(solver_name)\n",
    "    # Calculate the inverse operator\n",
    "    solver.make_inverse_operator(fwd,evoked,alpha)\n",
    "    # Apply the inverse operator to your data\n",
    "    stc4 = solver.apply_inverse_operator(evoked)\n",
    "    y_pred = stc4.data\n",
    "    y_pred4.append(y_pred)\n",
    "end_time4 = time.time()\n",
    "print(f\"WMNE运行时间：{end_time4 - start_time4} 秒\")"
   ]
  },
  {
   "cell_type": "code",
   "execution_count": 85,
   "id": "6d33b35e-926b-4ff1-8c14-5cc8f7d54670",
   "metadata": {},
   "outputs": [
    {
     "name": "stdout",
     "output_type": "stream",
     "text": [
      "(20, 26, 844)\n",
      "(20, 26, 844)\n",
      "(20, 26, 844)\n",
      "(20, 26, 844)\n",
      "(20, 26, 844)\n"
     ]
    }
   ],
   "source": [
    "# 修改数据，使其适合评估\n",
    "y_true = y_true[:n_samples, :, :]\n",
    "y_true = np.swapaxes(y_true, 1, 2)\n",
    "print(y_true.shape)\n",
    "\n",
    "y_pred1=np.array(y_pred1)\n",
    "y_pred2=np.array(y_pred2)\n",
    "y_pred3=np.array(y_pred3)\n",
    "y_pred4=np.array(y_pred4)\n",
    "\n",
    "y_pred1 = np.swapaxes(y_pred1, 1, 2)\n",
    "y_pred2 = np.swapaxes(y_pred2, 1, 2)\n",
    "y_pred3 = np.swapaxes(y_pred3, 1, 2)\n",
    "y_pred4 = np.swapaxes(y_pred4, 1, 2)\n",
    "\n",
    "print(y_pred1.shape)\n",
    "print(y_pred2.shape)\n",
    "print(y_pred3.shape)\n",
    "print(y_pred4.shape)"
   ]
  },
  {
   "cell_type": "code",
   "execution_count": 86,
   "id": "899c3e39-89df-4c2e-89e2-d06042b448b7",
   "metadata": {},
   "outputs": [
    {
     "name": "stdout",
     "output_type": "stream",
     "text": [
      "平均 NMSE across samples: 0.00821668298236238\n",
      "NMSE 的标准差: 0.006775379104862699\n"
     ]
    }
   ],
   "source": [
    "# 计算多个样本的 NMSE\n",
    "from esinet.evaluate import eval_nmse\n",
    "\n",
    "nmse_values1 = []\n",
    "\n",
    "for y_true_, y_pred_ in zip(y_true, y_pred1):\n",
    "    \n",
    "    # 计算每个样本的 NMSE\n",
    "    nmse_sample = eval_nmse(y_true_, y_pred_)\n",
    "    nmse_values1.append(nmse_sample)\n",
    "\n",
    "# 计算平均 MSE 和 NMSE\n",
    "mean_nmse1 = np.mean(nmse_values1)\n",
    "\n",
    "# 计算标准差\n",
    "nmse_std1 = np.std(nmse_values1)\n",
    "\n",
    "# 输出结果\n",
    "np.savetxt('NMSE1.csv', nmse_values1, fmt='%.5f')\n",
    "print(\"平均 NMSE across samples:\", mean_nmse1)\n",
    "print(\"NMSE 的标准差:\", nmse_std1)"
   ]
  },
  {
   "cell_type": "code",
   "execution_count": 87,
   "id": "16649c99-7ee0-4a2e-ba66-115f8a1e303f",
   "metadata": {},
   "outputs": [
    {
     "name": "stdout",
     "output_type": "stream",
     "text": [
      "平均 NMSE across samples: 0.009788558517089372\n",
      "NMSE 的标准差: 0.00518017227773466\n"
     ]
    }
   ],
   "source": [
    "# 计算多个样本的 NMSE\n",
    "from esinet.evaluate import eval_nmse\n",
    "\n",
    "nmse_values2 = []\n",
    "\n",
    "for y_true_, y_pred_ in zip(y_true, y_pred2):\n",
    "    \n",
    "    # 计算每个样本的 NMSE\n",
    "    nmse_sample = eval_nmse(y_true_, y_pred_)\n",
    "    nmse_values2.append(nmse_sample)\n",
    "\n",
    "# 计算平均 MSE 和 NMSE\n",
    "mean_nmse2 = np.mean(nmse_values2)\n",
    "\n",
    "# 计算标准差\n",
    "nmse_std2 = np.std(nmse_values2)\n",
    "\n",
    "# 输出结果\n",
    "np.savetxt('NMSE2.csv', nmse_values2, fmt='%.5f')\n",
    "print(\"平均 NMSE across samples:\", mean_nmse2)\n",
    "print(\"NMSE 的标准差:\", nmse_std2)"
   ]
  },
  {
   "cell_type": "code",
   "execution_count": 88,
   "id": "690fae4e-e4ee-418a-9e9e-fb0ffa54bcea",
   "metadata": {},
   "outputs": [
    {
     "name": "stdout",
     "output_type": "stream",
     "text": [
      "平均 NMSE across samples: 0.011472854557633071\n",
      "NMSE 的标准差: 0.005824908740822543\n"
     ]
    }
   ],
   "source": [
    "# 计算多个样本的 NMSE\n",
    "from esinet.evaluate import eval_nmse\n",
    "\n",
    "nmse_values3 = []\n",
    "\n",
    "for y_true_, y_pred_ in zip(y_true, y_pred3):\n",
    "    \n",
    "    # 计算每个样本的 NMSE\n",
    "    nmse_sample = eval_nmse(y_true_, y_pred_)\n",
    "    nmse_values3.append(nmse_sample)\n",
    "\n",
    "# 计算平均 MSE 和 NMSE\n",
    "mean_nmse3 = np.mean(nmse_values3)\n",
    "\n",
    "# 计算标准差\n",
    "nmse_std3 = np.std(nmse_values3)\n",
    "\n",
    "# 输出结果\n",
    "np.savetxt('NMSE3.csv', nmse_values3, fmt='%.5f')\n",
    "print(\"平均 NMSE across samples:\", mean_nmse3)\n",
    "print(\"NMSE 的标准差:\", nmse_std3)"
   ]
  },
  {
   "cell_type": "code",
   "execution_count": 89,
   "id": "b6a3340b-61cf-4f0b-8008-c59e33d694da",
   "metadata": {},
   "outputs": [
    {
     "name": "stdout",
     "output_type": "stream",
     "text": [
      "平均 NMSE across samples: 0.0036899163249841127\n",
      "NMSE 的标准差: 0.0036889475562164055\n"
     ]
    }
   ],
   "source": [
    "# 计算多个样本的 NMSE\n",
    "from esinet.evaluate import eval_nmse\n",
    "\n",
    "nmse_values4 = []\n",
    "\n",
    "for y_true_, y_pred_ in zip(y_true, y_pred4):\n",
    "    \n",
    "    # 计算每个样本的 NMSE\n",
    "    nmse_sample = eval_nmse(y_true_, y_pred_)\n",
    "    nmse_values4.append(nmse_sample)\n",
    "\n",
    "# 计算平均 MSE 和 NMSE\n",
    "mean_nmse4 = np.mean(nmse_values4)\n",
    "\n",
    "# 计算标准差\n",
    "nmse_std4 = np.std(nmse_values4)\n",
    "\n",
    "# 输出结果\n",
    "np.savetxt('NMSE4.csv', nmse_values4, fmt='%.5f')\n",
    "print(\"平均 NMSE across samples:\", mean_nmse4)\n",
    "print(\"NMSE 的标准差:\", nmse_std4)"
   ]
  },
  {
   "cell_type": "code",
   "execution_count": 90,
   "id": "252df041-f26d-4608-95b0-1c70ac7d3ebb",
   "metadata": {},
   "outputs": [],
   "source": [
    "# 计算多个样本的 MLE\n",
    "from esinet.evaluate import eval_mean_localization_error\n",
    "\n",
    "def evals(y_true, y_hat, pos):\n",
    "    n_samples, n_time = y_true.shape[:2]\n",
    "    n_samples = int(n_samples)   # 节省时间\n",
    "    mles = np.zeros((n_samples,))\n",
    "\n",
    "    for i in range(n_samples):\n",
    "        sample_mles = np.zeros((n_time,))\n",
    "\n",
    "        for j in range(n_time):\n",
    "            sample_mles[j] = eval_mean_localization_error(y_true[i, j], y_hat[i, j], pos)\n",
    "\n",
    "        # 在计算平均值之前检查 sample_mles 是否为空\n",
    "        if not np.isnan(sample_mles).all():\n",
    "            mles[i] = np.nanmean(sample_mles)\n",
    "\n",
    "    # 对样本取平均值\n",
    "    avg_mle = np.nanmean(mles)\n",
    "\n",
    "    # 计算标准差\n",
    "    mle_std = np.nanstd(mles)\n",
    "\n",
    "    return mles, avg_mle, mle_std"
   ]
  },
  {
   "cell_type": "code",
   "execution_count": 91,
   "id": "20ceae16-86db-4b07-88b4-488aa8436ded",
   "metadata": {},
   "outputs": [
    {
     "name": "stdout",
     "output_type": "stream",
     "text": [
      "模型1—平均 MLE across samples: 17.9686433008088\n",
      "MLE 的标准差: 3.978182097576858\n"
     ]
    }
   ],
   "source": [
    "# 调用 evals 函数并打印结果\n",
    "pos = np.load('pos.npy')\n",
    "mles1, avg_mle_result1, mle_std_result1 = evals(y_true, y_pred1, pos)\n",
    "np.savetxt('MLE1.csv', mles1, fmt='%.5f')\n",
    "print(\"模型1—平均 MLE across samples:\", avg_mle_result1)\n",
    "print(\"MLE 的标准差:\", mle_std_result1)"
   ]
  },
  {
   "cell_type": "code",
   "execution_count": 92,
   "id": "dbc63b50-2b4e-44ed-a22a-37233c51d8b7",
   "metadata": {},
   "outputs": [
    {
     "name": "stdout",
     "output_type": "stream",
     "text": [
      "模型1—平均 MLE across samples: 15.58126328014454\n",
      "MLE 的标准差: 4.93997059854679\n"
     ]
    }
   ],
   "source": [
    "# 调用 evals 函数并打印结果\n",
    "mles2, avg_mle_result2, mle_std_result2 = evals(y_true, y_pred2, pos)\n",
    "np.savetxt('MLE2.csv', mles2, fmt='%.5f')\n",
    "print(\"模型1—平均 MLE across samples:\", avg_mle_result2)\n",
    "print(\"MLE 的标准差:\", mle_std_result2)"
   ]
  },
  {
   "cell_type": "code",
   "execution_count": 93,
   "id": "6abbe52a-2877-4543-aca2-fed1365cef3e",
   "metadata": {},
   "outputs": [
    {
     "name": "stdout",
     "output_type": "stream",
     "text": [
      "模型1—平均 MLE across samples: 14.756290917497097\n",
      "MLE 的标准差: 4.377360254237205\n"
     ]
    }
   ],
   "source": [
    "# 调用 evals 函数并打印结果\n",
    "mles3, avg_mle_result3, mle_std_result3 = evals(y_true, y_pred3, pos)\n",
    "np.savetxt('MLE3.csv', mles3, fmt='%.5f')\n",
    "print(\"模型1—平均 MLE across samples:\", avg_mle_result3)\n",
    "print(\"MLE 的标准差:\", mle_std_result3)"
   ]
  },
  {
   "cell_type": "code",
   "execution_count": 94,
   "id": "11154123-e14e-4d73-b0b3-973fe85da420",
   "metadata": {},
   "outputs": [
    {
     "name": "stdout",
     "output_type": "stream",
     "text": [
      "模型1—平均 MLE across samples: 18.19991158008184\n",
      "MLE 的标准差: 8.046644947592991\n"
     ]
    }
   ],
   "source": [
    "# 调用 evals 函数并打印结果\n",
    "mles4, avg_mle_result4, mle_std_result4 = evals(y_true, y_pred4, pos)\n",
    "np.savetxt('MLE4.csv', mles4, fmt='%.5f')\n",
    "print(\"模型1—平均 MLE across samples:\", avg_mle_result4)\n",
    "print(\"MLE 的标准差:\", mle_std_result4)"
   ]
  },
  {
   "cell_type": "code",
   "execution_count": 95,
   "id": "d9196909-a1ca-4d05-a50e-dac65dccb66f",
   "metadata": {},
   "outputs": [
    {
     "name": "stdout",
     "output_type": "stream",
     "text": [
      "平均 AUC across samples: 0.8295812659825457\n",
      "AUC 的标准差: 0.10014390435279082\n"
     ]
    }
   ],
   "source": [
    "# 计算多个样本的 AUC\n",
    "from esinet.evaluate import auc_metric\n",
    "# 调用 auc_metric 函数，计算平均AUC，注意这里的y_true 维度: (1000, 25, 1284)，y_pred 维度: (1000, 25, 1284)\n",
    "auc_values1 = []\n",
    "\n",
    "for y_true_, y_pred_ in zip(y_true, y_pred1):\n",
    "    \n",
    "    # 计算每个样本的 NMSE\n",
    "    auc_sample,auc_std = auc_metric(y_true_, y_pred_)\n",
    "    auc_values1.append(auc_sample)\n",
    "\n",
    "# 计算平均 MSE 和 NMSE\n",
    "mean_auc1 = np.mean(auc_values1)\n",
    "\n",
    "# 计算标准差\n",
    "std_auc1 = np.std(auc_values1)\n",
    "\n",
    "# 输出平均 AUC\n",
    "np.savetxt('AUC1.csv', auc_values1, fmt='%.5f')\n",
    "print(\"平均 AUC across samples:\", mean_auc1)\n",
    "print(\"AUC 的标准差:\", std_auc1)"
   ]
  },
  {
   "cell_type": "code",
   "execution_count": 96,
   "id": "1d22fbd9-fe92-4a27-b937-d6a548909bd0",
   "metadata": {},
   "outputs": [
    {
     "name": "stdout",
     "output_type": "stream",
     "text": [
      "平均 AUC across samples: 0.8359122186490323\n",
      "AUC 的标准差: 0.08338061223776434\n"
     ]
    }
   ],
   "source": [
    "# 计算多个样本的 AUC\n",
    "# 调用 auc_metric 函数，计算平均AUC，注意这里的y_true 维度: (1000, 25, 1284)，y_pred 维度: (1000, 25, 1284)\n",
    "auc_values2 = []\n",
    "\n",
    "for y_true_, y_pred_ in zip(y_true, y_pred2):\n",
    "    \n",
    "    # 计算每个样本的 NMSE\n",
    "    auc_sample,auc_std = auc_metric(y_true_, y_pred_)\n",
    "    auc_values2.append(auc_sample)\n",
    "\n",
    "# 计算平均 MSE 和 NMSE\n",
    "mean_auc2 = np.mean(auc_values2)\n",
    "\n",
    "# 计算标准差\n",
    "std_auc2 = np.std(auc_values2)\n",
    "\n",
    "# 输出平均 AUC\n",
    "np.savetxt('AUC2.csv', auc_values2, fmt='%.5f')\n",
    "print(\"平均 AUC across samples:\", mean_auc2)\n",
    "print(\"AUC 的标准差:\", std_auc2)"
   ]
  },
  {
   "cell_type": "code",
   "execution_count": 97,
   "id": "c0b0f149-8d0d-4a51-a848-47bfef5fbca8",
   "metadata": {},
   "outputs": [
    {
     "name": "stdout",
     "output_type": "stream",
     "text": [
      "平均 AUC across samples: 0.8432866401977381\n",
      "AUC 的标准差: 0.08806963696762433\n"
     ]
    }
   ],
   "source": [
    "# 计算多个样本的 AUC\n",
    "# 调用 auc_metric 函数，计算平均AUC，注意这里的y_true 维度: (1000, 25, 1284)，y_pred 维度: (1000, 25, 1284)\n",
    "auc_values3 = []\n",
    "\n",
    "for y_true_, y_pred_ in zip(y_true, y_pred3):\n",
    "    \n",
    "    # 计算每个样本的 NMSE\n",
    "    auc_sample,auc_std = auc_metric(y_true_, y_pred_)\n",
    "    auc_values3.append(auc_sample)\n",
    "\n",
    "# 计算平均 MSE 和 NMSE\n",
    "mean_auc3 = np.mean(auc_values3)\n",
    "\n",
    "# 计算标准差\n",
    "std_auc3 = np.std(auc_values3)\n",
    "\n",
    "# 输出平均 AUC\n",
    "np.savetxt('AUC3.csv', auc_values3, fmt='%.5f')\n",
    "print(\"平均 AUC across samples:\", mean_auc3)\n",
    "print(\"AUC 的标准差:\", std_auc3)"
   ]
  },
  {
   "cell_type": "code",
   "execution_count": 98,
   "id": "86195c88-30f8-4a56-ad0f-b9174b284d5f",
   "metadata": {},
   "outputs": [
    {
     "name": "stdout",
     "output_type": "stream",
     "text": [
      "平均 AUC across samples: 0.6050981693886179\n",
      "AUC 的标准差: 0.11362619486439639\n"
     ]
    }
   ],
   "source": [
    "# 计算多个样本的 AUC\n",
    "# 调用 auc_metric 函数，计算平均AUC，注意这里的y_true 维度: (1000, 25, 1284)，y_pred 维度: (1000, 25, 1284)\n",
    "auc_values4 = []\n",
    "\n",
    "for y_true_, y_pred_ in zip(y_true, y_pred4):\n",
    "    \n",
    "    # 计算每个样本的 NMSE\n",
    "    auc_sample,auc_std = auc_metric(y_true_, y_pred_)\n",
    "    auc_values4.append(auc_sample)\n",
    "\n",
    "# 计算平均 MSE 和 NMSE\n",
    "mean_auc4 = np.mean(auc_values4)\n",
    "\n",
    "# 计算标准差\n",
    "std_auc4 = np.std(auc_values4)\n",
    "\n",
    "# 输出平均 AUC\n",
    "np.savetxt('AUC4.csv', auc_values4, fmt='%.5f')\n",
    "print(\"平均 AUC across samples:\", mean_auc4)\n",
    "print(\"AUC 的标准差:\", std_auc4)"
   ]
  },
  {
   "cell_type": "code",
   "execution_count": 99,
   "id": "84625fa2",
   "metadata": {},
   "outputs": [
    {
     "data": {
      "application/json": {
       "ascii": false,
       "bar_format": null,
       "colour": null,
       "elapsed": 0.015986204147338867,
       "initial": 0,
       "n": 0,
       "ncols": null,
       "nrows": 29,
       "postfix": null,
       "prefix": "",
       "rate": null,
       "total": 20,
       "unit": "it",
       "unit_divisor": 1000,
       "unit_scale": false
      },
      "application/vnd.jupyter.widget-view+json": {
       "model_id": "32f2e6f94cdd443193d7cc24e2b19da0",
       "version_major": 2,
       "version_minor": 0
      },
      "text/plain": [
       "  0%|          | 0/20 [00:00<?, ?it/s]"
      ]
     },
     "metadata": {},
     "output_type": "display_data"
    },
    {
     "name": "stdout",
     "output_type": "stream",
     "text": [
      "model1: Average r=0.30\n",
      "model1: Average r=0.10\n"
     ]
    }
   ],
   "source": [
    "# 模型预测和评估：\n",
    "best_sample_idx_model = None\n",
    "best_r_model = -1  # 初始值设为一个较小的值，确保它会被更新\n",
    "best_p_value_model = 1  # 初始值设为一个较大的值，确保它会被更新\n",
    "average_r_model = 0  # 初始化累计变量\n",
    "correlations1=[]\n",
    "for idx in tqdm(range(n_samples)):\n",
    "    n = sim_test.simulation_info[\"number_of_sources\"].values[idx]\n",
    "    #print(f\"{n} source(s)\")\n",
    "\n",
    "    # 模型1的预测和评估\n",
    "    r_model, p_value_model = pearsonr(y_pred1[idx].flatten(), y_true[idx].flatten())\n",
    "    correlations1.append(np.abs(r_model))\n",
    "\n",
    "    # 更新最佳样本信息\n",
    "    if r_model > best_r_model:\n",
    "        best_r_model = r_model\n",
    "        best_p_value_model = p_value_model\n",
    "        best_sample_idx_model = idx\n",
    "         # 累计结果\n",
    "    average_r_model += r_model\n",
    "\n",
    "# 计算平均值\n",
    "np.savetxt('CC1.csv', correlations1, fmt='%.5f')\n",
    "average_r_model /= n_samples\n",
    "variance_r_model1 = np.std(correlations1)\n",
    "print(f\"model1: Average r={average_r_model:.2f}\")\n",
    "print(f\"model1: Average r={variance_r_model1:.2f}\")"
   ]
  },
  {
   "cell_type": "code",
   "execution_count": 100,
   "id": "b648c1e8",
   "metadata": {},
   "outputs": [
    {
     "data": {
      "application/json": {
       "ascii": false,
       "bar_format": null,
       "colour": null,
       "elapsed": 0.019947290420532227,
       "initial": 0,
       "n": 0,
       "ncols": null,
       "nrows": 29,
       "postfix": null,
       "prefix": "",
       "rate": null,
       "total": 20,
       "unit": "it",
       "unit_divisor": 1000,
       "unit_scale": false
      },
      "application/vnd.jupyter.widget-view+json": {
       "model_id": "1a85d5012d0445108048a20564027596",
       "version_major": 2,
       "version_minor": 0
      },
      "text/plain": [
       "  0%|          | 0/20 [00:00<?, ?it/s]"
      ]
     },
     "metadata": {},
     "output_type": "display_data"
    },
    {
     "name": "stdout",
     "output_type": "stream",
     "text": [
      "model2: Average r=0.28\n",
      "model2: Average r=0.10\n"
     ]
    }
   ],
   "source": [
    "# 模型预测和评估：\n",
    "best_sample_idx_model = None\n",
    "best_r_model = -1  # 初始值设为一个较小的值，确保它会被更新\n",
    "best_p_value_model = 1  # 初始值设为一个较大的值，确保它会被更新\n",
    "average_r_model2 = 0  # 初始化累计变量\n",
    "correlations2=[]\n",
    "for idx in tqdm(range(n_samples)):\n",
    "    n = sim_test.simulation_info[\"number_of_sources\"].values[idx]\n",
    "    #print(f\"{n} source(s)\")\n",
    "\n",
    "    # 模型1的预测和评估\n",
    "    r_model, p_value_model = pearsonr(y_pred2[idx].flatten(), y_true[idx].flatten())\n",
    "    correlations2.append(np.abs(r_model))\n",
    "\n",
    "    # 更新最佳样本信息\n",
    "    if r_model > best_r_model:\n",
    "        best_r_model = r_model\n",
    "        best_p_value_model = p_value_model\n",
    "        best_sample_idx_model = idx\n",
    "         # 累计结果\n",
    "    average_r_model2 += r_model\n",
    "\n",
    "# 计算平均值\n",
    "np.savetxt('CC2.csv', correlations2, fmt='%.5f')\n",
    "average_r_model2 /= n_samples\n",
    "variance_r_model2 = np.std(correlations2)\n",
    "print(f\"model2: Average r={average_r_model2:.2f}\")\n",
    "print(f\"model2: Average r={variance_r_model2:.2f}\")"
   ]
  },
  {
   "cell_type": "code",
   "execution_count": 101,
   "id": "69a3ff6a",
   "metadata": {},
   "outputs": [
    {
     "data": {
      "application/json": {
       "ascii": false,
       "bar_format": null,
       "colour": null,
       "elapsed": 0.024932861328125,
       "initial": 0,
       "n": 0,
       "ncols": null,
       "nrows": 29,
       "postfix": null,
       "prefix": "",
       "rate": null,
       "total": 20,
       "unit": "it",
       "unit_divisor": 1000,
       "unit_scale": false
      },
      "application/vnd.jupyter.widget-view+json": {
       "model_id": "f7058fbd244d4229b024b1c6474d5f56",
       "version_major": 2,
       "version_minor": 0
      },
      "text/plain": [
       "  0%|          | 0/20 [00:00<?, ?it/s]"
      ]
     },
     "metadata": {},
     "output_type": "display_data"
    },
    {
     "name": "stdout",
     "output_type": "stream",
     "text": [
      "model3: Average r=0.01\n",
      "model3: Average r=0.10\n"
     ]
    }
   ],
   "source": [
    "# 模型预测和评估：\n",
    "best_sample_idx_model = None\n",
    "best_r_model = -1  # 初始值设为一个较小的值，确保它会被更新\n",
    "best_p_value_model = 1  # 初始值设为一个较大的值，确保它会被更新\n",
    "average_r_model3 = 0  # 初始化累计变量\n",
    "correlations3=[]\n",
    "for idx in tqdm(range(n_samples)):\n",
    "    n = sim_test.simulation_info[\"number_of_sources\"].values[idx]\n",
    "    #print(f\"{n} source(s)\")\n",
    "\n",
    "    # 模型1的预测和评估\n",
    "    r_model, p_value_model = pearsonr(y_pred3[idx].flatten(), y_true[idx].flatten())\n",
    "    correlations3.append(np.abs(r_model))\n",
    "\n",
    "    # 更新最佳样本信息\n",
    "    if r_model > best_r_model:\n",
    "        best_r_model = r_model\n",
    "        best_p_value_model = p_value_model\n",
    "        best_sample_idx_model = idx\n",
    "         # 累计结果\n",
    "    average_r_model3 += r_model\n",
    "\n",
    "# 计算平均值\n",
    "np.savetxt('CC3.csv', correlations3, fmt='%.5f')\n",
    "average_r_model /= n_samples\n",
    "variance_r_model3 = np.std(correlations3)\n",
    "print(f\"model3: Average r={average_r_model:.2f}\")\n",
    "print(f\"model3: Average r={variance_r_model3:.2f}\")"
   ]
  },
  {
   "cell_type": "code",
   "execution_count": 102,
   "id": "8bfc949d",
   "metadata": {},
   "outputs": [
    {
     "data": {
      "application/json": {
       "ascii": false,
       "bar_format": null,
       "colour": null,
       "elapsed": 0.017951488494873047,
       "initial": 0,
       "n": 0,
       "ncols": null,
       "nrows": 29,
       "postfix": null,
       "prefix": "",
       "rate": null,
       "total": 20,
       "unit": "it",
       "unit_divisor": 1000,
       "unit_scale": false
      },
      "application/vnd.jupyter.widget-view+json": {
       "model_id": "33569c46c7a44fcc9707ba90dbaefa2d",
       "version_major": 2,
       "version_minor": 0
      },
      "text/plain": [
       "  0%|          | 0/20 [00:00<?, ?it/s]"
      ]
     },
     "metadata": {},
     "output_type": "display_data"
    },
    {
     "name": "stdout",
     "output_type": "stream",
     "text": [
      "model4: Average r=0.29\n",
      "model4: Average r=0.28\n"
     ]
    }
   ],
   "source": [
    "# 模型预测和评估：\n",
    "best_sample_idx_model = None\n",
    "best_r_model = -1  # 初始值设为一个较小的值，确保它会被更新\n",
    "best_p_value_model = 1  # 初始值设为一个较大的值，确保它会被更新\n",
    "average_r_model4 = 0  # 初始化累计变量\n",
    "correlations4=[]\n",
    "for idx in tqdm(range(n_samples)):\n",
    "    n = sim_test.simulation_info[\"number_of_sources\"].values[idx]\n",
    "    #print(f\"{n} source(s)\")\n",
    "\n",
    "    # 模型1的预测和评估\n",
    "    r_model, p_value_model = pearsonr(y_pred4[idx].flatten(), y_true[idx].flatten())\n",
    "    correlations4.append(np.abs(r_model))\n",
    "\n",
    "    # 更新最佳样本信息\n",
    "    if r_model > best_r_model:\n",
    "        best_r_model = r_model\n",
    "        best_p_value_model = p_value_model\n",
    "        best_sample_idx_model = idx\n",
    "         # 累计结果\n",
    "    average_r_model4 += r_model\n",
    "\n",
    "# 计算平均值\n",
    "np.savetxt('CC4.csv', correlations4, fmt='%.5f')\n",
    "average_r_model4 /= n_samples\n",
    "variance_r_model4 = np.std(correlations4)\n",
    "print(f\"model4: Average r={average_r_model4:.2f}\")\n",
    "print(f\"model4: Average r={variance_r_model4:.2f}\")"
   ]
  },
  {
   "cell_type": "code",
   "execution_count": null,
   "id": "7f7432b0",
   "metadata": {},
   "outputs": [],
   "source": []
  }
 ],
 "metadata": {
  "kernelspec": {
   "display_name": "Python 3",
   "language": "python",
   "name": "python3"
  },
  "language_info": {
   "codemirror_mode": {
    "name": "ipython",
    "version": 3
   },
   "file_extension": ".py",
   "mimetype": "text/x-python",
   "name": "python",
   "nbconvert_exporter": "python",
   "pygments_lexer": "ipython3",
   "version": "3.8.18"
  }
 },
 "nbformat": 4,
 "nbformat_minor": 5
}
