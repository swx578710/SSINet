{
 "cells": [
  {
   "cell_type": "code",
   "execution_count": 2,
   "id": "0cfaa864-24b0-4183-bd93-15f088573096",
   "metadata": {},
   "outputs": [
    {
     "name": "stdout",
     "output_type": "stream",
     "text": [
      "Reading forward solution from D:\\jupyter_note\\SWX_source\\Simulated_data\\fwd.fif...\n",
      "    Reading a source space...\n",
      "    [done]\n",
      "    Reading a source space...\n",
      "    [done]\n",
      "    2 source spaces read\n",
      "    Desired named matrix (kind = 3523) not available\n",
      "    Read EEG forward solution (1284 sources, 60 channels, free orientations)\n",
      "    Source spaces transformed to the forward solution coordinate frame\n"
     ]
    },
    {
     "name": "stderr",
     "output_type": "stream",
     "text": [
      "<ipython-input-2-b897a0751268>:8: RuntimeWarning: This filename (fwd.fif) does not conform to MNE naming conventions. All forward files should end with -fwd.fif, -fwd.fif.gz, _fwd.fif, _fwd.fif.gz, -fwd.h5 or _fwd.h5\n",
      "  fwd = mne.read_forward_solution('fwd.fif')\n"
     ]
    }
   ],
   "source": [
    "from invert import Solver\n",
    "import mne\n",
    "import pickle\n",
    "\n",
    "with open( 'D:/jupyter_note/SWX_source/Simulated_data/sim.pkl', 'rb') as file:\n",
    "    sim_test = pickle.load(file)\n",
    "\n",
    "fwd = mne.read_forward_solution('fwd.fif')\n",
    "# 这里一定要加一个condition=0，不然会变为list类型，会报错\n",
    "\n",
    "# 指定画图参数\n",
    "plot_params = dict(surface='white', initial_time=0.05, views=('lateral'), hemi='both', verbose=0)"
   ]
  },
  {
   "cell_type": "code",
   "execution_count": 11,
   "id": "1710c26e-9d0e-4657-b1a5-2300f45b61f5",
   "metadata": {},
   "outputs": [
    {
     "name": "stdout",
     "output_type": "stream",
     "text": [
      "<EpochsArray |  1 events (all good), 0 – 0.0976562 s, baseline off, ~101 kB, data loaded,\n",
      " '1': 1>\n",
      "<Evoked | '1' (average, N=1), 0 – 0.097656 s, baseline off, 60 ch, ~101 kB>\n"
     ]
    },
    {
     "data": {
      "text/plain": [
       "<mne.viz._brain._brain.Brain at 0x1c42008a0d0>"
      ]
     },
     "execution_count": 11,
     "metadata": {},
     "output_type": "execute_result"
    }
   ],
   "source": [
    "epochs=sim_test.eeg_data[3]\n",
    "print(epochs)\n",
    "evoked = epochs.average()\n",
    "print(evoked)\n",
    "\n",
    "# 可视化真实源\n",
    "stc = sim_test.source_data[3]\n",
    "#stc.data = y_true[0]\n",
    "stc.plot(**plot_params)#通过stc.plot将模拟的真实脑源活动可视化"
   ]
  },
  {
   "cell_type": "code",
   "execution_count": 12,
   "id": "39e0fb92-da12-4c87-a8a5-7bb7650aa47e",
   "metadata": {},
   "outputs": [
    {
     "name": "stdout",
     "output_type": "stream",
     "text": [
      "Forward model has free source orientation. This is currently not possible, converting to fixed.\n",
      "NOTE: pick_types() is a legacy function. New code should use inst.pick(...).\n",
      "NOTE: pick_channels() is a legacy function. New code should use inst.pick(...).\n"
     ]
    },
    {
     "data": {
      "text/plain": [
       "<mne.viz._brain._brain.Brain at 0x1c420204850>"
      ]
     },
     "execution_count": 12,
     "metadata": {},
     "output_type": "execute_result"
    }
   ],
   "source": [
    "# Create a Solver instance\n",
    "solver_name = \"WMNE\"\n",
    "solver = Solver(solver_name)\n",
    "alpha = 0.1\n",
    "\n",
    "# Calculate the inverse operator\n",
    "solver.make_inverse_operator(fwd)\n",
    "\n",
    "# Apply the inverse operator to your data\n",
    "stc = solver.apply_inverse_operator(evoked)\n",
    "\n",
    "# Plot the resulting source estimate\n",
    "stc.plot(**plot_params)"
   ]
  },
  {
   "cell_type": "code",
   "execution_count": 7,
   "id": "bfc4cd76-e37c-4c0c-8028-aa287b661482",
   "metadata": {},
   "outputs": [
    {
     "name": "stdout",
     "output_type": "stream",
     "text": [
      "Forward model has free source orientation. This is currently not possible, converting to fixed.\n",
      "NOTE: pick_types() is a legacy function. New code should use inst.pick(...).\n",
      "NOTE: pick_channels() is a legacy function. New code should use inst.pick(...).\n"
     ]
    },
    {
     "data": {
      "text/plain": [
       "<mne.viz._brain._brain.Brain at 0x1c41fb61c10>"
      ]
     },
     "execution_count": 7,
     "metadata": {},
     "output_type": "execute_result"
    }
   ],
   "source": [
    "solver_name = \"dSPM\"\n",
    "solver = Solver(solver_name)\n",
    "\n",
    "# Calculate the inverse operator\n",
    "solver.make_inverse_operator(fwd)\n",
    "\n",
    "# Apply the inverse operator to your data\n",
    "stc = solver.apply_inverse_operator(evoked)\n",
    "\n",
    "# Plot the resulting source estimate\n",
    "stc.plot(**plot_params)"
   ]
  },
  {
   "cell_type": "code",
   "execution_count": 28,
   "id": "51e86546-ccb3-4f12-a76e-ea8aa040599a",
   "metadata": {},
   "outputs": [
    {
     "name": "stdout",
     "output_type": "stream",
     "text": [
      "Forward model has free source orientation. This is currently not possible, converting to fixed.\n",
      "NOTE: pick_types() is a legacy function. New code should use inst.pick(...).\n",
      "NOTE: pick_channels() is a legacy function. New code should use inst.pick(...).\n"
     ]
    },
    {
     "data": {
      "text/plain": [
       "<mne.viz._brain._brain.Brain at 0x25104f9b280>"
      ]
     },
     "execution_count": 28,
     "metadata": {},
     "output_type": "execute_result"
    }
   ],
   "source": [
    "solver_name = \"sloreta\"\n",
    "solver = Solver(solver_name)\n",
    "\n",
    "# Calculate the inverse operator\n",
    "solver.make_inverse_operator(fwd)\n",
    "\n",
    "# Apply the inverse operator to your data\n",
    "stc = solver.apply_inverse_operator(evoked)\n",
    "\n",
    "# Plot the resulting source estimate\n",
    "stc.plot(**plot_params)"
   ]
  },
  {
   "cell_type": "code",
   "execution_count": 9,
   "id": "2b2bb393-30ee-4d10-8870-9eed99e6bc9a",
   "metadata": {},
   "outputs": [
    {
     "name": "stdout",
     "output_type": "stream",
     "text": [
      "Forward model has free source orientation. This is currently not possible, converting to fixed.\n",
      "NOTE: pick_types() is a legacy function. New code should use inst.pick(...).\n",
      "NOTE: pick_channels() is a legacy function. New code should use inst.pick(...).\n",
      "NOTE: pick_types() is a legacy function. New code should use inst.pick(...).\n",
      "NOTE: pick_channels() is a legacy function. New code should use inst.pick(...).\n"
     ]
    },
    {
     "data": {
      "text/plain": [
       "<mne.viz._brain._brain.Brain at 0x1c41fd03b20>"
      ]
     },
     "execution_count": 9,
     "metadata": {},
     "output_type": "execute_result"
    }
   ],
   "source": [
    "solver_name = \"champagne\"\n",
    "solver = Solver(solver_name)\n",
    "\n",
    "# Calculate the inverse operator\n",
    "solver.make_inverse_operator(fwd,evoked,alpha)\n",
    "\n",
    "# Apply the inverse operator to your data\n",
    "stc = solver.apply_inverse_operator(evoked)\n",
    "\n",
    "# Plot the resulting source estimate\n",
    "stc.plot(**plot_params)"
   ]
  },
  {
   "cell_type": "code",
   "execution_count": 13,
   "id": "480e0de1-501e-4072-b80c-68d35a14e593",
   "metadata": {},
   "outputs": [
    {
     "name": "stdout",
     "output_type": "stream",
     "text": [
      "Forward model has free source orientation. This is currently not possible, converting to fixed.\n",
      "NOTE: pick_types() is a legacy function. New code should use inst.pick(...).\n",
      "NOTE: pick_channels() is a legacy function. New code should use inst.pick(...).\n"
     ]
    },
    {
     "data": {
      "text/plain": [
       "<mne.viz._brain._brain.Brain at 0x1c420272790>"
      ]
     },
     "execution_count": 13,
     "metadata": {},
     "output_type": "execute_result"
    }
   ],
   "source": [
    "solver_name = \"eloreta\"\n",
    "solver = Solver(solver_name)\n",
    "\n",
    "# Calculate the inverse operator\n",
    "solver.make_inverse_operator(fwd)\n",
    "\n",
    "# Apply the inverse operator to your data\n",
    "stc = solver.apply_inverse_operator(evoked)\n",
    "\n",
    "# Plot the resulting source estimate\n",
    "stc.plot(**plot_params)"
   ]
  },
  {
   "cell_type": "code",
   "execution_count": 36,
   "id": "e6c978e0-544a-4ebc-bfd4-2cca8ec56112",
   "metadata": {},
   "outputs": [
    {
     "name": "stdout",
     "output_type": "stream",
     "text": [
      "Forward model has free source orientation. This is currently not possible, converting to fixed.\n",
      "NOTE: pick_types() is a legacy function. New code should use inst.pick(...).\n",
      "NOTE: pick_channels() is a legacy function. New code should use inst.pick(...).\n",
      "NOTE: pick_types() is a legacy function. New code should use inst.pick(...).\n",
      "NOTE: pick_channels() is a legacy function. New code should use inst.pick(...).\n"
     ]
    },
    {
     "data": {
      "text/plain": [
       "<mne.viz._brain._brain.Brain at 0x2511e3aee50>"
      ]
     },
     "execution_count": 36,
     "metadata": {},
     "output_type": "execute_result"
    }
   ],
   "source": [
    "solver_name = \"lcmv\"\n",
    "solver = Solver(solver_name)\n",
    "\n",
    "# Calculate the inverse operator\n",
    "solver.make_inverse_operator(fwd,evoked)\n",
    "\n",
    "# Apply the inverse operator to your data\n",
    "stc = solver.apply_inverse_operator(evoked)\n",
    "\n",
    "# Plot the resulting source estimate\n",
    "stc.plot(**plot_params)"
   ]
  },
  {
   "cell_type": "code",
   "execution_count": null,
   "id": "16649c99-7ee0-4a2e-ba66-115f8a1e303f",
   "metadata": {},
   "outputs": [],
   "source": []
  }
 ],
 "metadata": {
  "kernelspec": {
   "display_name": "Python [conda env:Keras]",
   "language": "python",
   "name": "conda-env-Keras-py"
  },
  "language_info": {
   "codemirror_mode": {
    "name": "ipython",
    "version": 3
   },
   "file_extension": ".py",
   "mimetype": "text/x-python",
   "name": "python",
   "nbconvert_exporter": "python",
   "pygments_lexer": "ipython3",
   "version": "3.8.18"
  }
 },
 "nbformat": 4,
 "nbformat_minor": 5
}
