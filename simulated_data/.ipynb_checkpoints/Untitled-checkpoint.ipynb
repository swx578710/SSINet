{
 "cells": [
  {
   "cell_type": "code",
   "execution_count": 58,
   "id": "d78e7c6f-6bff-4d0e-945b-85fe4ad1a892",
   "metadata": {},
   "outputs": [],
   "source": [
    "import matplotlib.pyplot as plt\n",
    "import numpy as np\n",
    "from invert import Solver\n",
    "\n",
    "import mne\n",
    "from mne.datasets import sample\n",
    "from mne.minimum_norm import apply_inverse, make_inverse_operator"
   ]
  },
  {
   "cell_type": "code",
   "execution_count": 59,
   "id": "1ecb76ae-0154-4a11-abda-8a02a8b9eb2a",
   "metadata": {},
   "outputs": [
    {
     "name": "stdout",
     "output_type": "stream",
     "text": [
      "Opening raw data file C:\\Users\\Administrator\\mne_data\\MNE-sample-data\\MEG\\sample\\sample_audvis_filt-0-40_raw.fif...\n",
      "    Read a total of 4 projection items:\n",
      "        PCA-v1 (1 x 102)  idle\n",
      "        PCA-v2 (1 x 102)  idle\n",
      "        PCA-v3 (1 x 102)  idle\n",
      "        Average EEG reference (1 x 60)  idle\n",
      "    Range : 6450 ... 48149 =     42.956 ...   320.665 secs\n",
      "Ready.\n",
      "319 events found on stim channel STI 014\n",
      "Event IDs: [ 1  2  3  4  5 32]\n",
      "Not setting metadata\n",
      "72 matching events found\n",
      "Setting baseline interval to [-0.19979521315838786, 0.0] s\n",
      "Applying baseline correction (mode: mean)\n",
      "Created an SSP operator (subspace dimension = 3)\n",
      "4 projection items activated\n"
     ]
    }
   ],
   "source": [
    "data_path = sample.data_path()\n",
    "raw_fname = data_path / \"MEG\" / \"sample\" / \"sample_audvis_filt-0-40_raw.fif\"\n",
    "\n",
    "raw = mne.io.read_raw_fif(raw_fname)  # already has an average reference\n",
    "events = mne.find_events(raw, stim_channel=\"STI 014\")\n",
    "\n",
    "event_id = dict(aud_l=1)  # event trigger and conditions\n",
    "tmin = -0.2  # start of each epoch (200ms before the trigger)\n",
    "tmax = 0.5  # end of each epoch (500ms after the trigger)\n",
    "# raw.info[\"bads\"] = [\"MEG 2443\", \"EEG 053\"]\n",
    "baseline = (None, 0)  # means from the first instant to t = 0\n",
    "reject = dict(grad=4000e-13, mag=4e-12, eog=150e-6)\n",
    "\n",
    "epochs = mne.Epochs(\n",
    "    raw,\n",
    "    events,\n",
    "    event_id,\n",
    "    tmin,\n",
    "    tmax,\n",
    "    proj=True,\n",
    "    picks=(\"meg\", \"eog\"),\n",
    "    baseline=baseline,\n",
    "    reject=reject,\n",
    ")"
   ]
  },
  {
   "cell_type": "code",
   "execution_count": 60,
   "id": "36283c1c-5e48-471d-b310-369adb1d8c16",
   "metadata": {},
   "outputs": [
    {
     "name": "stdout",
     "output_type": "stream",
     "text": [
      "    Rejecting  epoch based on EOG : ['EOG 061']\n",
      "    Rejecting  epoch based on EOG : ['EOG 061']\n",
      "    Rejecting  epoch based on EOG : ['EOG 061']\n",
      "    Rejecting  epoch based on EOG : ['EOG 061']\n",
      "    Rejecting  epoch based on EOG : ['EOG 061']\n",
      "    Rejecting  epoch based on MAG : ['MEG 1711']\n",
      "    Rejecting  epoch based on EOG : ['EOG 061']\n",
      "    Rejecting  epoch based on EOG : ['EOG 061']\n",
      "    Rejecting  epoch based on EOG : ['EOG 061']\n",
      "    Rejecting  epoch based on EOG : ['EOG 061']\n",
      "    Rejecting  epoch based on EOG : ['EOG 061']\n",
      "    Rejecting  epoch based on EOG : ['EOG 061']\n",
      "    Rejecting  epoch based on EOG : ['EOG 061']\n",
      "    Rejecting  epoch based on EOG : ['EOG 061']\n",
      "    Rejecting  epoch based on EOG : ['EOG 061']\n",
      "    Rejecting  epoch based on EOG : ['EOG 061']\n",
      "    Rejecting  epoch based on EOG : ['EOG 061']\n",
      "Removing projector <Projection | Average EEG reference, active : True, n_channels : 60>\n",
      "<class 'numpy.ndarray'>\n",
      "(306, 106)\n"
     ]
    }
   ],
   "source": [
    "evoked = epochs.average().pick(\"meg\")\n",
    "mm=evoked.data\n",
    "print(type(mm))\n",
    "print(mm.shape)"
   ]
  },
  {
   "cell_type": "code",
   "execution_count": 61,
   "id": "713cad4a-41ac-4920-80e9-6ed65e67a32d",
   "metadata": {},
   "outputs": [
    {
     "name": "stdout",
     "output_type": "stream",
     "text": [
      "NOTE: pick_types() is a legacy function. New code should use inst.pick(...).\n",
      "NOTE: pick_channels() is a legacy function. New code should use inst.pick(...).\n"
     ]
    },
    {
     "ename": "ValueError",
     "evalue": "matmul: Input operand 1 has a mismatch in its core dimension 0, with gufunc signature (n?,k),(k,m?)->(n?,m?) (size 305 is different from 306)",
     "output_type": "error",
     "traceback": [
      "\u001b[1;31m---------------------------------------------------------------------------\u001b[0m",
      "\u001b[1;31mValueError\u001b[0m                                Traceback (most recent call last)",
      "Cell \u001b[1;32mIn[61], line 18\u001b[0m\n\u001b[0;32m     15\u001b[0m solver\u001b[38;5;241m.\u001b[39mmake_inverse_operator(fwd)\n\u001b[0;32m     17\u001b[0m \u001b[38;5;66;03m# Apply the inverse operator to your data\u001b[39;00m\n\u001b[1;32m---> 18\u001b[0m stc \u001b[38;5;241m=\u001b[39m \u001b[43msolver\u001b[49m\u001b[38;5;241;43m.\u001b[39;49m\u001b[43mapply_inverse_operator\u001b[49m\u001b[43m(\u001b[49m\u001b[43mevoked\u001b[49m\u001b[43m)\u001b[49m\n\u001b[0;32m     20\u001b[0m \u001b[38;5;66;03m# Plot the resulting source estimate\u001b[39;00m\n\u001b[0;32m     21\u001b[0m stc\u001b[38;5;241m.\u001b[39mplot(\u001b[38;5;241m*\u001b[39m\u001b[38;5;241m*\u001b[39mplot_params)\n",
      "File \u001b[1;32mD:\\deeplearning\\anaconda3\\envs\\Keras\\lib\\site-packages\\invert\\solvers\\base.py:158\u001b[0m, in \u001b[0;36mBaseSolver.apply_inverse_operator\u001b[1;34m(self, mne_obj)\u001b[0m\n\u001b[0;32m    156\u001b[0m     \u001b[38;5;28mself\u001b[39m\u001b[38;5;241m.\u001b[39mlast_reg_idx \u001b[38;5;241m=\u001b[39m idx\n\u001b[0;32m    157\u001b[0m \u001b[38;5;28;01melif\u001b[39;00m \u001b[38;5;28mself\u001b[39m\u001b[38;5;241m.\u001b[39mregularisation_method\u001b[38;5;241m.\u001b[39mlower() \u001b[38;5;241m==\u001b[39m \u001b[38;5;124m\"\u001b[39m\u001b[38;5;124mgcv\u001b[39m\u001b[38;5;124m\"\u001b[39m:\n\u001b[1;32m--> 158\u001b[0m     source_mat, idx \u001b[38;5;241m=\u001b[39m \u001b[38;5;28;43mself\u001b[39;49m\u001b[38;5;241;43m.\u001b[39;49m\u001b[43mregularise_gcv\u001b[49m\u001b[43m(\u001b[49m\u001b[43mdata\u001b[49m\u001b[43m,\u001b[49m\u001b[43m \u001b[49m\u001b[43mplot\u001b[49m\u001b[38;5;241;43m=\u001b[39;49m\u001b[38;5;28;43mself\u001b[39;49m\u001b[38;5;241;43m.\u001b[39;49m\u001b[43mplot_reg\u001b[49m\u001b[43m)\u001b[49m\n\u001b[0;32m    159\u001b[0m     \u001b[38;5;28mself\u001b[39m\u001b[38;5;241m.\u001b[39mlast_reg_idx \u001b[38;5;241m=\u001b[39m idx\n\u001b[0;32m    160\u001b[0m \u001b[38;5;28;01melif\u001b[39;00m \u001b[38;5;28mself\u001b[39m\u001b[38;5;241m.\u001b[39mregularisation_method\u001b[38;5;241m.\u001b[39mlower() \u001b[38;5;241m==\u001b[39m \u001b[38;5;124m\"\u001b[39m\u001b[38;5;124mproduct\u001b[39m\u001b[38;5;124m\"\u001b[39m:\n",
      "File \u001b[1;32mD:\\deeplearning\\anaconda3\\envs\\Keras\\lib\\site-packages\\invert\\solvers\\base.py:396\u001b[0m, in \u001b[0;36mBaseSolver.regularise_gcv\u001b[1;34m(self, M, plot)\u001b[0m\n\u001b[0;32m    394\u001b[0m gcv_values \u001b[38;5;241m=\u001b[39m []\n\u001b[0;32m    395\u001b[0m \u001b[38;5;28;01mfor\u001b[39;00m inverse_operator \u001b[38;5;129;01min\u001b[39;00m \u001b[38;5;28mself\u001b[39m\u001b[38;5;241m.\u001b[39minverse_operators:\n\u001b[1;32m--> 396\u001b[0m     x \u001b[38;5;241m=\u001b[39m \u001b[43minverse_operator\u001b[49m\u001b[38;5;241;43m.\u001b[39;49m\u001b[43mapply\u001b[49m\u001b[43m(\u001b[49m\u001b[43m \u001b[49m\u001b[43mM\u001b[49m\u001b[43m \u001b[49m\u001b[43m)\u001b[49m\n\u001b[0;32m    397\u001b[0m     M_hat \u001b[38;5;241m=\u001b[39m \u001b[38;5;28mself\u001b[39m\u001b[38;5;241m.\u001b[39mleadfield \u001b[38;5;241m@\u001b[39m x \n\u001b[0;32m    398\u001b[0m     \u001b[38;5;66;03m# M_hat -= M_hat.mean(axis=0)\u001b[39;00m\n",
      "File \u001b[1;32mD:\\deeplearning\\anaconda3\\envs\\Keras\\lib\\site-packages\\invert\\solvers\\base.py:53\u001b[0m, in \u001b[0;36mInverseOperator.apply\u001b[1;34m(self, M)\u001b[0m\n\u001b[0;32m     40\u001b[0m \u001b[38;5;28;01mdef\u001b[39;00m \u001b[38;5;21mapply\u001b[39m(\u001b[38;5;28mself\u001b[39m, M):\n\u001b[0;32m     41\u001b[0m     \u001b[38;5;124;03m''' Apply the precomputed inverse operator to the data matrix M.\u001b[39;00m\n\u001b[0;32m     42\u001b[0m \u001b[38;5;124;03m    Parameters\u001b[39;00m\n\u001b[0;32m     43\u001b[0m \u001b[38;5;124;03m    ----------\u001b[39;00m\n\u001b[1;32m   (...)\u001b[0m\n\u001b[0;32m     50\u001b[0m \u001b[38;5;124;03m        The source estimate matrix (n_sources, n_timepoints)\u001b[39;00m\n\u001b[0;32m     51\u001b[0m \u001b[38;5;124;03m    '''\u001b[39;00m\n\u001b[1;32m---> 53\u001b[0m     J \u001b[38;5;241m=\u001b[39m \u001b[38;5;28;43mself\u001b[39;49m\u001b[38;5;241;43m.\u001b[39;49m\u001b[43mdata\u001b[49m\u001b[43m \u001b[49m\u001b[38;5;241;43m@\u001b[39;49m\u001b[43m \u001b[49m\u001b[43mM\u001b[49m\n\u001b[0;32m     54\u001b[0m     \u001b[38;5;28;01mif\u001b[39;00m \u001b[38;5;28mlen\u001b[39m(J\u001b[38;5;241m.\u001b[39mshape) \u001b[38;5;241m>\u001b[39m \u001b[38;5;241m2\u001b[39m:\n\u001b[0;32m     55\u001b[0m         J \u001b[38;5;241m=\u001b[39m np\u001b[38;5;241m.\u001b[39msqueeze(J)\n",
      "\u001b[1;31mValueError\u001b[0m: matmul: Input operand 1 has a mismatch in its core dimension 0, with gufunc signature (n?,k),(k,m?)->(n?,m?) (size 305 is different from 306)"
     ]
    }
   ],
   "source": [
    "plot_params = dict(surface='white', initial_time=0.05, views=('lateral'), hemi='both', verbose=0)\n",
    "\n",
    "data_path = mne.datasets.sample.data_path()\n",
    "fname_fwd = str(data_path) + '/MEG/sample/sample_audvis-meg-oct-6-fwd.fif' \n",
    "fwd = mne.read_forward_solution(fname_fwd, verbose=0)\n",
    "\n",
    "fwd = fwd.pick_channels(evoked.ch_names)\n",
    "fwd = mne.convert_forward_solution(fwd, surf_ori=True, force_fixed=True,\n",
    "                                                    use_cps=True, verbose=0)\n",
    "\n",
    "solver_name = \"sloreta\"\n",
    "solver = Solver(solver_name)\n",
    "\n",
    "# Calculate the inverse operator\n",
    "solver.make_inverse_operator(fwd)\n",
    "\n",
    "# Apply the inverse operator to your data\n",
    "stc = solver.apply_inverse_operator(evoked)\n",
    "\n",
    "# Plot the resulting source estimate\n",
    "stc.plot(**plot_params)"
   ]
  },
  {
   "cell_type": "code",
   "execution_count": null,
   "id": "1640d66d-327a-4746-b802-1b12412e9f0f",
   "metadata": {},
   "outputs": [],
   "source": []
  }
 ],
 "metadata": {
  "kernelspec": {
   "display_name": "Python [conda env:Keras]",
   "language": "python",
   "name": "conda-env-Keras-py"
  },
  "language_info": {
   "codemirror_mode": {
    "name": "ipython",
    "version": 3
   },
   "file_extension": ".py",
   "mimetype": "text/x-python",
   "name": "python",
   "nbconvert_exporter": "python",
   "pygments_lexer": "ipython3",
   "version": "3.8.18"
  }
 },
 "nbformat": 4,
 "nbformat_minor": 5
}
